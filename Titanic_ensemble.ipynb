{
 "cells": [
  {
   "cell_type": "markdown",
   "metadata": {},
   "source": [
    "# Titanic passengers classification using Ensemble Methods"
   ]
  },
  {
   "cell_type": "markdown",
   "metadata": {},
   "source": [
    "## Artur Skowroński"
   ]
  },
  {
   "cell_type": "markdown",
   "metadata": {},
   "source": [
    "### Description of the problem"
   ]
  },
  {
   "cell_type": "markdown",
   "metadata": {},
   "source": [
    "\"This is the legendary Titanic ML competition – the best, first challenge for you to dive into ML competitions and familiarize yourself with how the Kaggle platform works.\" ~ Kaggle.\n",
    "This task is considered to be one of the most known connected with Machine Learning and my task is to predict which passenger have/could survived.\n",
    "\n",
    "The train dataset dimension is equal to 891 observations and 12 variables. The independent variable is \"survived\" where we can get an information if the passengers has survived (1) or not (0).\n",
    "\n",
    "**Characteristic of each row**\n",
    "\n",
    "* *Survival* - Survival (0 = No; 1 = Yes) **Target Variable**\n",
    "* *Class* - Passenger Class (1 = 1st; 2 = 2nd; 3 = 3rd)\n",
    "* *Name* - Name of passenger\n",
    "* *Sex* - Gender of passenger\n",
    "* *Age* - Age\n",
    "* *Sibsp* - Number of Siblings/Spouses Aboard\n",
    "* *Parch* - Number of Parents/Children Aboard\n",
    "* *Ticket* - Ticket Number\n",
    "* *Fare* - Passenger Fare\n",
    "* *Cabin* - Cabin\n",
    "* *Embarked* - Port of Embarkation (C = Cherbourg; Q = Queenstown; S = Southampton)"
   ]
  },
  {
   "cell_type": "markdown",
   "metadata": {},
   "source": [
    "## 1. Libraries"
   ]
  },
  {
   "cell_type": "code",
   "execution_count": 1,
   "metadata": {},
   "outputs": [],
   "source": [
    "import os\n",
    "import warnings \n",
    "warnings.filterwarnings('ignore')\n",
    "\n",
    "# Handling the data\n",
    "import pandas as pd\n",
    "import numpy as np\n",
    "\n",
    "# Visualisation\n",
    "import seaborn as sns\n",
    "import matplotlib.pyplot as plt\n",
    "%matplotlib inline\n",
    "import missingno as msno\n",
    "\n",
    "# Modelling\n",
    "from sklearn.preprocessing import LabelEncoder\n",
    "from sklearn.model_selection import KFold\n",
    "from sklearn.model_selection import train_test_split\n",
    "from sklearn.model_selection import RandomizedSearchCV\n",
    "from sklearn.metrics import roc_curve, roc_auc_score\n",
    "from sklearn.metrics import confusion_matrix, plot_confusion_matrix\n",
    "from sklearn.linear_model import LogisticRegression\n",
    "from sklearn.ensemble import RandomForestClassifier\n",
    "from sklearn.ensemble import AdaBoostClassifier\n",
    "import xgboost as xgb"
   ]
  },
  {
   "cell_type": "code",
   "execution_count": 2,
   "metadata": {},
   "outputs": [],
   "source": [
    "# Load titanic\n",
    "\n",
    "os.chdir('')\n",
    "titanic = pd.read_csv('train.csv')"
   ]
  },
  {
   "cell_type": "markdown",
   "metadata": {},
   "source": [
    "## 2. Dataset"
   ]
  },
  {
   "cell_type": "code",
   "execution_count": 3,
   "metadata": {},
   "outputs": [
    {
     "data": {
      "text/html": [
       "<div>\n",
       "<style scoped>\n",
       "    .dataframe tbody tr th:only-of-type {\n",
       "        vertical-align: middle;\n",
       "    }\n",
       "\n",
       "    .dataframe tbody tr th {\n",
       "        vertical-align: top;\n",
       "    }\n",
       "\n",
       "    .dataframe thead th {\n",
       "        text-align: right;\n",
       "    }\n",
       "</style>\n",
       "<table border=\"1\" class=\"dataframe\">\n",
       "  <thead>\n",
       "    <tr style=\"text-align: right;\">\n",
       "      <th></th>\n",
       "      <th>PassengerId</th>\n",
       "      <th>Survived</th>\n",
       "      <th>Pclass</th>\n",
       "      <th>Name</th>\n",
       "      <th>Sex</th>\n",
       "      <th>Age</th>\n",
       "      <th>SibSp</th>\n",
       "      <th>Parch</th>\n",
       "      <th>Ticket</th>\n",
       "      <th>Fare</th>\n",
       "      <th>Cabin</th>\n",
       "      <th>Embarked</th>\n",
       "    </tr>\n",
       "  </thead>\n",
       "  <tbody>\n",
       "    <tr>\n",
       "      <th>0</th>\n",
       "      <td>1</td>\n",
       "      <td>0</td>\n",
       "      <td>3</td>\n",
       "      <td>Braund, Mr. Owen Harris</td>\n",
       "      <td>male</td>\n",
       "      <td>22.0</td>\n",
       "      <td>1</td>\n",
       "      <td>0</td>\n",
       "      <td>A/5 21171</td>\n",
       "      <td>7.2500</td>\n",
       "      <td>NaN</td>\n",
       "      <td>S</td>\n",
       "    </tr>\n",
       "    <tr>\n",
       "      <th>1</th>\n",
       "      <td>2</td>\n",
       "      <td>1</td>\n",
       "      <td>1</td>\n",
       "      <td>Cumings, Mrs. John Bradley (Florence Briggs Th...</td>\n",
       "      <td>female</td>\n",
       "      <td>38.0</td>\n",
       "      <td>1</td>\n",
       "      <td>0</td>\n",
       "      <td>PC 17599</td>\n",
       "      <td>71.2833</td>\n",
       "      <td>C85</td>\n",
       "      <td>C</td>\n",
       "    </tr>\n",
       "    <tr>\n",
       "      <th>2</th>\n",
       "      <td>3</td>\n",
       "      <td>1</td>\n",
       "      <td>3</td>\n",
       "      <td>Heikkinen, Miss. Laina</td>\n",
       "      <td>female</td>\n",
       "      <td>26.0</td>\n",
       "      <td>0</td>\n",
       "      <td>0</td>\n",
       "      <td>STON/O2. 3101282</td>\n",
       "      <td>7.9250</td>\n",
       "      <td>NaN</td>\n",
       "      <td>S</td>\n",
       "    </tr>\n",
       "    <tr>\n",
       "      <th>3</th>\n",
       "      <td>4</td>\n",
       "      <td>1</td>\n",
       "      <td>1</td>\n",
       "      <td>Futrelle, Mrs. Jacques Heath (Lily May Peel)</td>\n",
       "      <td>female</td>\n",
       "      <td>35.0</td>\n",
       "      <td>1</td>\n",
       "      <td>0</td>\n",
       "      <td>113803</td>\n",
       "      <td>53.1000</td>\n",
       "      <td>C123</td>\n",
       "      <td>S</td>\n",
       "    </tr>\n",
       "    <tr>\n",
       "      <th>4</th>\n",
       "      <td>5</td>\n",
       "      <td>0</td>\n",
       "      <td>3</td>\n",
       "      <td>Allen, Mr. William Henry</td>\n",
       "      <td>male</td>\n",
       "      <td>35.0</td>\n",
       "      <td>0</td>\n",
       "      <td>0</td>\n",
       "      <td>373450</td>\n",
       "      <td>8.0500</td>\n",
       "      <td>NaN</td>\n",
       "      <td>S</td>\n",
       "    </tr>\n",
       "  </tbody>\n",
       "</table>\n",
       "</div>"
      ],
      "text/plain": [
       "   PassengerId  Survived  Pclass  \\\n",
       "0            1         0       3   \n",
       "1            2         1       1   \n",
       "2            3         1       3   \n",
       "3            4         1       1   \n",
       "4            5         0       3   \n",
       "\n",
       "                                                Name     Sex   Age  SibSp  \\\n",
       "0                            Braund, Mr. Owen Harris    male  22.0      1   \n",
       "1  Cumings, Mrs. John Bradley (Florence Briggs Th...  female  38.0      1   \n",
       "2                             Heikkinen, Miss. Laina  female  26.0      0   \n",
       "3       Futrelle, Mrs. Jacques Heath (Lily May Peel)  female  35.0      1   \n",
       "4                           Allen, Mr. William Henry    male  35.0      0   \n",
       "\n",
       "   Parch            Ticket     Fare Cabin Embarked  \n",
       "0      0         A/5 21171   7.2500   NaN        S  \n",
       "1      0          PC 17599  71.2833   C85        C  \n",
       "2      0  STON/O2. 3101282   7.9250   NaN        S  \n",
       "3      0            113803  53.1000  C123        S  \n",
       "4      0            373450   8.0500   NaN        S  "
      ]
     },
     "execution_count": 3,
     "metadata": {},
     "output_type": "execute_result"
    }
   ],
   "source": [
    "titanic.head()"
   ]
  },
  {
   "cell_type": "code",
   "execution_count": 4,
   "metadata": {},
   "outputs": [],
   "source": [
    "# Setting the new column index\n",
    "titanic.set_index(\"PassengerId\", inplace = True)"
   ]
  },
  {
   "cell_type": "code",
   "execution_count": 5,
   "metadata": {},
   "outputs": [
    {
     "name": "stdout",
     "output_type": "stream",
     "text": [
      "<class 'pandas.core.frame.DataFrame'>\n",
      "Int64Index: 891 entries, 1 to 891\n",
      "Data columns (total 11 columns):\n",
      " #   Column    Non-Null Count  Dtype  \n",
      "---  ------    --------------  -----  \n",
      " 0   Survived  891 non-null    int64  \n",
      " 1   Pclass    891 non-null    int64  \n",
      " 2   Name      891 non-null    object \n",
      " 3   Sex       891 non-null    object \n",
      " 4   Age       714 non-null    float64\n",
      " 5   SibSp     891 non-null    int64  \n",
      " 6   Parch     891 non-null    int64  \n",
      " 7   Ticket    891 non-null    object \n",
      " 8   Fare      891 non-null    float64\n",
      " 9   Cabin     204 non-null    object \n",
      " 10  Embarked  889 non-null    object \n",
      "dtypes: float64(2), int64(4), object(5)\n",
      "memory usage: 83.5+ KB\n"
     ]
    }
   ],
   "source": [
    "# Quick glance into the data\n",
    "titanic.info()"
   ]
  },
  {
   "cell_type": "code",
   "execution_count": 6,
   "metadata": {},
   "outputs": [
    {
     "data": {
      "text/html": [
       "<div>\n",
       "<style scoped>\n",
       "    .dataframe tbody tr th:only-of-type {\n",
       "        vertical-align: middle;\n",
       "    }\n",
       "\n",
       "    .dataframe tbody tr th {\n",
       "        vertical-align: top;\n",
       "    }\n",
       "\n",
       "    .dataframe thead th {\n",
       "        text-align: right;\n",
       "    }\n",
       "</style>\n",
       "<table border=\"1\" class=\"dataframe\">\n",
       "  <thead>\n",
       "    <tr style=\"text-align: right;\">\n",
       "      <th></th>\n",
       "      <th>Survived</th>\n",
       "      <th>Pclass</th>\n",
       "      <th>Age</th>\n",
       "      <th>SibSp</th>\n",
       "      <th>Parch</th>\n",
       "      <th>Fare</th>\n",
       "    </tr>\n",
       "  </thead>\n",
       "  <tbody>\n",
       "    <tr>\n",
       "      <th>count</th>\n",
       "      <td>891.000000</td>\n",
       "      <td>891.000000</td>\n",
       "      <td>714.000000</td>\n",
       "      <td>891.000000</td>\n",
       "      <td>891.000000</td>\n",
       "      <td>891.000000</td>\n",
       "    </tr>\n",
       "    <tr>\n",
       "      <th>mean</th>\n",
       "      <td>0.383838</td>\n",
       "      <td>2.308642</td>\n",
       "      <td>29.699118</td>\n",
       "      <td>0.523008</td>\n",
       "      <td>0.381594</td>\n",
       "      <td>32.204208</td>\n",
       "    </tr>\n",
       "    <tr>\n",
       "      <th>std</th>\n",
       "      <td>0.486592</td>\n",
       "      <td>0.836071</td>\n",
       "      <td>14.526497</td>\n",
       "      <td>1.102743</td>\n",
       "      <td>0.806057</td>\n",
       "      <td>49.693429</td>\n",
       "    </tr>\n",
       "    <tr>\n",
       "      <th>min</th>\n",
       "      <td>0.000000</td>\n",
       "      <td>1.000000</td>\n",
       "      <td>0.420000</td>\n",
       "      <td>0.000000</td>\n",
       "      <td>0.000000</td>\n",
       "      <td>0.000000</td>\n",
       "    </tr>\n",
       "    <tr>\n",
       "      <th>25%</th>\n",
       "      <td>0.000000</td>\n",
       "      <td>2.000000</td>\n",
       "      <td>20.125000</td>\n",
       "      <td>0.000000</td>\n",
       "      <td>0.000000</td>\n",
       "      <td>7.910400</td>\n",
       "    </tr>\n",
       "    <tr>\n",
       "      <th>50%</th>\n",
       "      <td>0.000000</td>\n",
       "      <td>3.000000</td>\n",
       "      <td>28.000000</td>\n",
       "      <td>0.000000</td>\n",
       "      <td>0.000000</td>\n",
       "      <td>14.454200</td>\n",
       "    </tr>\n",
       "    <tr>\n",
       "      <th>75%</th>\n",
       "      <td>1.000000</td>\n",
       "      <td>3.000000</td>\n",
       "      <td>38.000000</td>\n",
       "      <td>1.000000</td>\n",
       "      <td>0.000000</td>\n",
       "      <td>31.000000</td>\n",
       "    </tr>\n",
       "    <tr>\n",
       "      <th>max</th>\n",
       "      <td>1.000000</td>\n",
       "      <td>3.000000</td>\n",
       "      <td>80.000000</td>\n",
       "      <td>8.000000</td>\n",
       "      <td>6.000000</td>\n",
       "      <td>512.329200</td>\n",
       "    </tr>\n",
       "  </tbody>\n",
       "</table>\n",
       "</div>"
      ],
      "text/plain": [
       "         Survived      Pclass         Age       SibSp       Parch        Fare\n",
       "count  891.000000  891.000000  714.000000  891.000000  891.000000  891.000000\n",
       "mean     0.383838    2.308642   29.699118    0.523008    0.381594   32.204208\n",
       "std      0.486592    0.836071   14.526497    1.102743    0.806057   49.693429\n",
       "min      0.000000    1.000000    0.420000    0.000000    0.000000    0.000000\n",
       "25%      0.000000    2.000000   20.125000    0.000000    0.000000    7.910400\n",
       "50%      0.000000    3.000000   28.000000    0.000000    0.000000   14.454200\n",
       "75%      1.000000    3.000000   38.000000    1.000000    0.000000   31.000000\n",
       "max      1.000000    3.000000   80.000000    8.000000    6.000000  512.329200"
      ]
     },
     "execution_count": 6,
     "metadata": {},
     "output_type": "execute_result"
    }
   ],
   "source": [
    "# Basic statistics of the data\n",
    "titanic.describe()"
   ]
  },
  {
   "cell_type": "markdown",
   "metadata": {},
   "source": [
    "Basing on the above table:\n",
    "* *Survived* - probably everything is alright with this variable, however basing on the mean I suggest that more passengers has died\n",
    "* *Pclass* - most of the passengers were having second or third class which is quite understandable\n",
    "* *Age* - the youngest person hasn't even lived one year, while the age of the oldest one is equal 80. There are some missing values in this variable\n",
    "* *Parch* - median is equal to 0.00 so at least 50% of the passengers were alone\n",
    "* *Fare* - the price of the most expensive ticket is equal to 512 (probably 1st class), while the price of the cheapest one is equal to 0.00 (probably the youngest passenger or MAYBE it is some kind of an error - it is worth to check)"
   ]
  },
  {
   "cell_type": "markdown",
   "metadata": {},
   "source": [
    "#### 2.1 Additional verification and formatting"
   ]
  },
  {
   "cell_type": "code",
   "execution_count": 7,
   "metadata": {},
   "outputs": [
    {
     "data": {
      "text/html": [
       "<div>\n",
       "<style scoped>\n",
       "    .dataframe tbody tr th:only-of-type {\n",
       "        vertical-align: middle;\n",
       "    }\n",
       "\n",
       "    .dataframe tbody tr th {\n",
       "        vertical-align: top;\n",
       "    }\n",
       "\n",
       "    .dataframe thead th {\n",
       "        text-align: right;\n",
       "    }\n",
       "</style>\n",
       "<table border=\"1\" class=\"dataframe\">\n",
       "  <thead>\n",
       "    <tr style=\"text-align: right;\">\n",
       "      <th></th>\n",
       "      <th>Prefix_of_passenger</th>\n",
       "      <th>Gender</th>\n",
       "    </tr>\n",
       "    <tr>\n",
       "      <th>PassengerId</th>\n",
       "      <th></th>\n",
       "      <th></th>\n",
       "    </tr>\n",
       "  </thead>\n",
       "  <tbody>\n",
       "    <tr>\n",
       "      <th>1</th>\n",
       "      <td>Mr</td>\n",
       "      <td>male</td>\n",
       "    </tr>\n",
       "    <tr>\n",
       "      <th>2</th>\n",
       "      <td>Mrs</td>\n",
       "      <td>female</td>\n",
       "    </tr>\n",
       "    <tr>\n",
       "      <th>3</th>\n",
       "      <td>Miss</td>\n",
       "      <td>female</td>\n",
       "    </tr>\n",
       "    <tr>\n",
       "      <th>4</th>\n",
       "      <td>Mrs</td>\n",
       "      <td>female</td>\n",
       "    </tr>\n",
       "    <tr>\n",
       "      <th>5</th>\n",
       "      <td>Mr</td>\n",
       "      <td>male</td>\n",
       "    </tr>\n",
       "    <tr>\n",
       "      <th>...</th>\n",
       "      <td>...</td>\n",
       "      <td>...</td>\n",
       "    </tr>\n",
       "    <tr>\n",
       "      <th>887</th>\n",
       "      <td>Rev</td>\n",
       "      <td>male</td>\n",
       "    </tr>\n",
       "    <tr>\n",
       "      <th>888</th>\n",
       "      <td>Miss</td>\n",
       "      <td>female</td>\n",
       "    </tr>\n",
       "    <tr>\n",
       "      <th>889</th>\n",
       "      <td>Miss</td>\n",
       "      <td>female</td>\n",
       "    </tr>\n",
       "    <tr>\n",
       "      <th>890</th>\n",
       "      <td>Mr</td>\n",
       "      <td>male</td>\n",
       "    </tr>\n",
       "    <tr>\n",
       "      <th>891</th>\n",
       "      <td>Mr</td>\n",
       "      <td>male</td>\n",
       "    </tr>\n",
       "  </tbody>\n",
       "</table>\n",
       "<p>891 rows × 2 columns</p>\n",
       "</div>"
      ],
      "text/plain": [
       "            Prefix_of_passenger  Gender\n",
       "PassengerId                            \n",
       "1                            Mr    male\n",
       "2                           Mrs  female\n",
       "3                          Miss  female\n",
       "4                           Mrs  female\n",
       "5                            Mr    male\n",
       "...                         ...     ...\n",
       "887                         Rev    male\n",
       "888                        Miss  female\n",
       "889                        Miss  female\n",
       "890                          Mr    male\n",
       "891                          Mr    male\n",
       "\n",
       "[891 rows x 2 columns]"
      ]
     },
     "execution_count": 7,
     "metadata": {},
     "output_type": "execute_result"
    }
   ],
   "source": [
    "# Checking if the value of sex is equal to prefixes of each person\n",
    "\n",
    "temp_name = titanic['Name'].apply(lambda x: x.split(\",\")[1].split(\".\")[0])\n",
    "\n",
    "check_titanic_gender = pd.DataFrame({'Prefix_of_passenger':temp_name, 'Gender':titanic['Sex']})\n",
    "check_titanic_gender"
   ]
  },
  {
   "cell_type": "markdown",
   "metadata": {},
   "source": [
    "There is some additional value 'Rev' in Prefix_of_passenger - let's check it."
   ]
  },
  {
   "cell_type": "code",
   "execution_count": 8,
   "metadata": {},
   "outputs": [
    {
     "data": {
      "text/plain": [
       " Mr              517\n",
       " Miss            182\n",
       " Mrs             125\n",
       " Master           40\n",
       " Dr                7\n",
       " Rev               6\n",
       " Mlle              2\n",
       " Major             2\n",
       " Col               2\n",
       " the Countess      1\n",
       " Capt              1\n",
       " Ms                1\n",
       " Sir               1\n",
       " Lady              1\n",
       " Mme               1\n",
       " Don               1\n",
       " Jonkheer          1\n",
       "Name: Prefix_of_passenger, dtype: int64"
      ]
     },
     "execution_count": 8,
     "metadata": {},
     "output_type": "execute_result"
    }
   ],
   "source": [
    "check_titanic_gender['Prefix_of_passenger'].value_counts()"
   ]
  },
  {
   "cell_type": "markdown",
   "metadata": {},
   "source": [
    "Well, we see that there are many prefixes so let's **suppose** that everything is fine with this."
   ]
  },
  {
   "cell_type": "code",
   "execution_count": 9,
   "metadata": {},
   "outputs": [
    {
     "data": {
      "text/plain": [
       "PassengerId\n",
       "1    0\n",
       "2    1\n",
       "3    1\n",
       "4    1\n",
       "5    0\n",
       "Name: Sex, dtype: int64"
      ]
     },
     "execution_count": 9,
     "metadata": {},
     "output_type": "execute_result"
    }
   ],
   "source": [
    "# Chaning the gender into 0-1 values, where 1 is female and 0 male\n",
    "titanic['Sex'] = titanic['Sex'].apply(lambda x: 1 if x == 'female' else 0)\n",
    "titanic['Sex'][0:5]"
   ]
  },
  {
   "cell_type": "markdown",
   "metadata": {},
   "source": [
    "## 3. Clear the data"
   ]
  },
  {
   "cell_type": "code",
   "execution_count": 10,
   "metadata": {},
   "outputs": [
    {
     "data": {
      "image/png": "[encoded data removed]",
      "text/plain": [
       "<Figure size 1800x720 with 2 Axes>"
      ]
     },
     "metadata": {
      "needs_background": "light"
     },
     "output_type": "display_data"
    }
   ],
   "source": [
    "# Chart for missing data in each column\n",
    "msno.matrix(titanic)\n",
    "plt.show()"
   ]
  },
  {
   "cell_type": "markdown",
   "metadata": {},
   "source": [
    "The problem with missing data extends across the entire set for the Age and Cabin variables.\n",
    "It is not the best idea just to remove this data, that's why I will dive more into these two columns and check some dependencies."
   ]
  },
  {
   "cell_type": "markdown",
   "metadata": {},
   "source": [
    "### Age"
   ]
  },
  {
   "cell_type": "markdown",
   "metadata": {},
   "source": [
    "I don't think that implementing median to each missing values is definitely the best idea.\n",
    "So maybe it is worth to match the fares with age - I think that older people are more willing to pay more for tickets.\n",
    "I will divide Fare into 4 buckets."
   ]
  },
  {
   "cell_type": "code",
   "execution_count": 11,
   "metadata": {},
   "outputs": [
    {
     "data": {
      "text/html": [
       "<div>\n",
       "<style scoped>\n",
       "    .dataframe tbody tr th:only-of-type {\n",
       "        vertical-align: middle;\n",
       "    }\n",
       "\n",
       "    .dataframe tbody tr th {\n",
       "        vertical-align: top;\n",
       "    }\n",
       "\n",
       "    .dataframe thead th {\n",
       "        text-align: right;\n",
       "    }\n",
       "</style>\n",
       "<table border=\"1\" class=\"dataframe\">\n",
       "  <thead>\n",
       "    <tr style=\"text-align: right;\">\n",
       "      <th></th>\n",
       "      <th>Age</th>\n",
       "    </tr>\n",
       "    <tr>\n",
       "      <th>fare_cut</th>\n",
       "      <th></th>\n",
       "    </tr>\n",
       "  </thead>\n",
       "  <tbody>\n",
       "    <tr>\n",
       "      <th>(-0.512, 128.082]</th>\n",
       "      <td>28.0</td>\n",
       "    </tr>\n",
       "    <tr>\n",
       "      <th>(128.082, 256.165]</th>\n",
       "      <td>36.0</td>\n",
       "    </tr>\n",
       "    <tr>\n",
       "      <th>(256.165, 384.247]</th>\n",
       "      <td>22.0</td>\n",
       "    </tr>\n",
       "    <tr>\n",
       "      <th>(384.247, 512.329]</th>\n",
       "      <td>35.0</td>\n",
       "    </tr>\n",
       "  </tbody>\n",
       "</table>\n",
       "</div>"
      ],
      "text/plain": [
       "                     Age\n",
       "fare_cut                \n",
       "(-0.512, 128.082]   28.0\n",
       "(128.082, 256.165]  36.0\n",
       "(256.165, 384.247]  22.0\n",
       "(384.247, 512.329]  35.0"
      ]
     },
     "execution_count": 11,
     "metadata": {},
     "output_type": "execute_result"
    }
   ],
   "source": [
    "# Making of copy of original dataset and adding fare_cit\n",
    "titanic_new = titanic.copy()\n",
    "\n",
    "titanic_new['fare_cut'] = pd.cut(titanic_new['Fare'], bins = 4)\n",
    "\n",
    "#Calcucalting the median fare for each age group\n",
    "age_pivot = pd.pivot_table(titanic_new, values = 'Age', index = 'fare_cut', aggfunc = np.median)\n",
    "age_pivot"
   ]
  },
  {
   "cell_type": "markdown",
   "metadata": {},
   "source": [
    "Unfortunately, my hypothesis seems to be not quite true. Nevertheless, I will check additional how the medians are distributed with respect to the Parch variable."
   ]
  },
  {
   "cell_type": "code",
   "execution_count": 12,
   "metadata": {},
   "outputs": [
    {
     "data": {
      "text/html": [
       "<div>\n",
       "<style scoped>\n",
       "    .dataframe tbody tr th:only-of-type {\n",
       "        vertical-align: middle;\n",
       "    }\n",
       "\n",
       "    .dataframe tbody tr th {\n",
       "        vertical-align: top;\n",
       "    }\n",
       "\n",
       "    .dataframe thead th {\n",
       "        text-align: right;\n",
       "    }\n",
       "</style>\n",
       "<table border=\"1\" class=\"dataframe\">\n",
       "  <thead>\n",
       "    <tr style=\"text-align: right;\">\n",
       "      <th>Parch</th>\n",
       "      <th>0</th>\n",
       "      <th>1</th>\n",
       "      <th>2</th>\n",
       "      <th>3</th>\n",
       "      <th>4</th>\n",
       "      <th>5</th>\n",
       "      <th>6</th>\n",
       "    </tr>\n",
       "    <tr>\n",
       "      <th>fare_cut</th>\n",
       "      <th></th>\n",
       "      <th></th>\n",
       "      <th></th>\n",
       "      <th></th>\n",
       "      <th></th>\n",
       "      <th></th>\n",
       "      <th></th>\n",
       "    </tr>\n",
       "  </thead>\n",
       "  <tbody>\n",
       "    <tr>\n",
       "      <th>(-0.512, 128.082]</th>\n",
       "      <td>29.0</td>\n",
       "      <td>21.0</td>\n",
       "      <td>12.5</td>\n",
       "      <td>24.0</td>\n",
       "      <td>40.0</td>\n",
       "      <td>39.0</td>\n",
       "      <td>43.0</td>\n",
       "    </tr>\n",
       "    <tr>\n",
       "      <th>(128.082, 256.165]</th>\n",
       "      <td>37.0</td>\n",
       "      <td>41.5</td>\n",
       "      <td>25.0</td>\n",
       "      <td>NaN</td>\n",
       "      <td>NaN</td>\n",
       "      <td>NaN</td>\n",
       "      <td>NaN</td>\n",
       "    </tr>\n",
       "    <tr>\n",
       "      <th>(256.165, 384.247]</th>\n",
       "      <td>NaN</td>\n",
       "      <td>NaN</td>\n",
       "      <td>21.0</td>\n",
       "      <td>NaN</td>\n",
       "      <td>64.0</td>\n",
       "      <td>NaN</td>\n",
       "      <td>NaN</td>\n",
       "    </tr>\n",
       "    <tr>\n",
       "      <th>(384.247, 512.329]</th>\n",
       "      <td>35.0</td>\n",
       "      <td>36.0</td>\n",
       "      <td>NaN</td>\n",
       "      <td>NaN</td>\n",
       "      <td>NaN</td>\n",
       "      <td>NaN</td>\n",
       "      <td>NaN</td>\n",
       "    </tr>\n",
       "  </tbody>\n",
       "</table>\n",
       "</div>"
      ],
      "text/plain": [
       "Parch                  0     1     2     3     4     5     6\n",
       "fare_cut                                                    \n",
       "(-0.512, 128.082]   29.0  21.0  12.5  24.0  40.0  39.0  43.0\n",
       "(128.082, 256.165]  37.0  41.5  25.0   NaN   NaN   NaN   NaN\n",
       "(256.165, 384.247]   NaN   NaN  21.0   NaN  64.0   NaN   NaN\n",
       "(384.247, 512.329]  35.0  36.0   NaN   NaN   NaN   NaN   NaN"
      ]
     },
     "execution_count": 12,
     "metadata": {},
     "output_type": "execute_result"
    }
   ],
   "source": [
    "# Checking the Parch column by each age group\n",
    "pd.pivot_table(titanic_new, values = 'Age', index = 'fare_cut', columns = 'Parch', aggfunc = np.median)"
   ]
  },
  {
   "cell_type": "code",
   "execution_count": 13,
   "metadata": {},
   "outputs": [
    {
     "data": {
      "text/plain": [
       "0    853\n",
       "1     29\n",
       "2      6\n",
       "3      3\n",
       "Name: fare_cut, dtype: int64"
      ]
     },
     "execution_count": 13,
     "metadata": {},
     "output_type": "execute_result"
    }
   ],
   "source": [
    "# LabelEncoder of fare_cut\n",
    "le = LabelEncoder()\n",
    "titanic_new['fare_cut']= le.fit_transform(titanic_new['fare_cut'])\n",
    "titanic_new['fare_cut'].value_counts()"
   ]
  },
  {
   "cell_type": "code",
   "execution_count": 14,
   "metadata": {},
   "outputs": [],
   "source": [
    "#Filling NaN values in Age column based on average age in a fare_cut calculated above\n",
    "titanic_new[\"Age\"]=titanic_new[\"Age\"].fillna(titanic_new[\"fare_cut\"].map({0:28, 1:36, 2:22, 3:35}))\n",
    "titanic_new.drop(columns = 'fare_cut', inplace = True)"
   ]
  },
  {
   "cell_type": "code",
   "execution_count": 15,
   "metadata": {},
   "outputs": [
    {
     "data": {
      "text/html": [
       "<div>\n",
       "<style scoped>\n",
       "    .dataframe tbody tr th:only-of-type {\n",
       "        vertical-align: middle;\n",
       "    }\n",
       "\n",
       "    .dataframe tbody tr th {\n",
       "        vertical-align: top;\n",
       "    }\n",
       "\n",
       "    .dataframe thead th {\n",
       "        text-align: right;\n",
       "    }\n",
       "</style>\n",
       "<table border=\"1\" class=\"dataframe\">\n",
       "  <thead>\n",
       "    <tr style=\"text-align: right;\">\n",
       "      <th></th>\n",
       "      <th>Survived</th>\n",
       "      <th>Pclass</th>\n",
       "      <th>Name</th>\n",
       "      <th>Sex</th>\n",
       "      <th>Age</th>\n",
       "      <th>SibSp</th>\n",
       "      <th>Parch</th>\n",
       "      <th>Ticket</th>\n",
       "      <th>Fare</th>\n",
       "      <th>Cabin</th>\n",
       "      <th>Embarked</th>\n",
       "    </tr>\n",
       "    <tr>\n",
       "      <th>PassengerId</th>\n",
       "      <th></th>\n",
       "      <th></th>\n",
       "      <th></th>\n",
       "      <th></th>\n",
       "      <th></th>\n",
       "      <th></th>\n",
       "      <th></th>\n",
       "      <th></th>\n",
       "      <th></th>\n",
       "      <th></th>\n",
       "      <th></th>\n",
       "    </tr>\n",
       "  </thead>\n",
       "  <tbody>\n",
       "  </tbody>\n",
       "</table>\n",
       "</div>"
      ],
      "text/plain": [
       "Empty DataFrame\n",
       "Columns: [Survived, Pclass, Name, Sex, Age, SibSp, Parch, Ticket, Fare, Cabin, Embarked]\n",
       "Index: []"
      ]
     },
     "execution_count": 15,
     "metadata": {},
     "output_type": "execute_result"
    }
   ],
   "source": [
    "# Check - it's good\n",
    "titanic_new[titanic_new['Age'].isna()]"
   ]
  },
  {
   "cell_type": "markdown",
   "metadata": {},
   "source": [
    "### Cabin"
   ]
  },
  {
   "cell_type": "markdown",
   "metadata": {},
   "source": [
    "On the chart with missing values, we see that column Cabin is having a lot of NaN values. Well, I think that the best option is to just **get rid of this variable**."
   ]
  },
  {
   "cell_type": "code",
   "execution_count": 16,
   "metadata": {},
   "outputs": [],
   "source": [
    "titanic_new.drop(columns = 'Cabin', inplace = True)"
   ]
  },
  {
   "cell_type": "markdown",
   "metadata": {},
   "source": [
    "### Ticket"
   ]
  },
  {
   "cell_type": "markdown",
   "metadata": {},
   "source": [
    "I think that the same thing I can do with \"Ticket\" variable because probably every cell is unique and the index of a ticket is not giving me a lot of information. Nevertheless I am gonna ensure myself that I am correct."
   ]
  },
  {
   "cell_type": "code",
   "execution_count": 17,
   "metadata": {},
   "outputs": [
    {
     "data": {
      "text/plain": [
       "681"
      ]
     },
     "execution_count": 17,
     "metadata": {},
     "output_type": "execute_result"
    }
   ],
   "source": [
    "titanic_new['Ticket'].nunique()"
   ]
  },
  {
   "cell_type": "markdown",
   "metadata": {},
   "source": [
    "The result is quite surprising. However, this value (681) is still higher than the half of the dataset, that's why I will also get rid of this variable."
   ]
  },
  {
   "cell_type": "code",
   "execution_count": 18,
   "metadata": {},
   "outputs": [],
   "source": [
    "titanic_new.drop(columns = 'Ticket', inplace = True)"
   ]
  },
  {
   "cell_type": "code",
   "execution_count": 19,
   "metadata": {},
   "outputs": [
    {
     "data": {
      "text/plain": [
       "True"
      ]
     },
     "execution_count": 19,
     "metadata": {},
     "output_type": "execute_result"
    }
   ],
   "source": [
    "# Ensure myself that the data is clear\n",
    "titanic_new.isna().any().any()\n",
    "# Oops, I forgot about something"
   ]
  },
  {
   "cell_type": "code",
   "execution_count": 20,
   "metadata": {},
   "outputs": [
    {
     "data": {
      "text/plain": [
       "Survived    0\n",
       "Pclass      0\n",
       "Name        0\n",
       "Sex         0\n",
       "Age         0\n",
       "SibSp       0\n",
       "Parch       0\n",
       "Fare        0\n",
       "Embarked    2\n",
       "dtype: int64"
      ]
     },
     "execution_count": 20,
     "metadata": {},
     "output_type": "execute_result"
    }
   ],
   "source": [
    "# Let's check\n",
    "titanic_new.isna().sum()"
   ]
  },
  {
   "cell_type": "markdown",
   "metadata": {},
   "source": [
    "### Embarked"
   ]
  },
  {
   "cell_type": "code",
   "execution_count": 21,
   "metadata": {},
   "outputs": [
    {
     "data": {
      "text/html": [
       "<div>\n",
       "<style scoped>\n",
       "    .dataframe tbody tr th:only-of-type {\n",
       "        vertical-align: middle;\n",
       "    }\n",
       "\n",
       "    .dataframe tbody tr th {\n",
       "        vertical-align: top;\n",
       "    }\n",
       "\n",
       "    .dataframe thead th {\n",
       "        text-align: right;\n",
       "    }\n",
       "</style>\n",
       "<table border=\"1\" class=\"dataframe\">\n",
       "  <thead>\n",
       "    <tr style=\"text-align: right;\">\n",
       "      <th></th>\n",
       "      <th>Survived</th>\n",
       "      <th>Pclass</th>\n",
       "      <th>Name</th>\n",
       "      <th>Sex</th>\n",
       "      <th>Age</th>\n",
       "      <th>SibSp</th>\n",
       "      <th>Parch</th>\n",
       "      <th>Fare</th>\n",
       "      <th>Embarked</th>\n",
       "    </tr>\n",
       "    <tr>\n",
       "      <th>PassengerId</th>\n",
       "      <th></th>\n",
       "      <th></th>\n",
       "      <th></th>\n",
       "      <th></th>\n",
       "      <th></th>\n",
       "      <th></th>\n",
       "      <th></th>\n",
       "      <th></th>\n",
       "      <th></th>\n",
       "    </tr>\n",
       "  </thead>\n",
       "  <tbody>\n",
       "    <tr>\n",
       "      <th>62</th>\n",
       "      <td>1</td>\n",
       "      <td>1</td>\n",
       "      <td>Icard, Miss. Amelie</td>\n",
       "      <td>1</td>\n",
       "      <td>38.0</td>\n",
       "      <td>0</td>\n",
       "      <td>0</td>\n",
       "      <td>80.0</td>\n",
       "      <td>NaN</td>\n",
       "    </tr>\n",
       "    <tr>\n",
       "      <th>830</th>\n",
       "      <td>1</td>\n",
       "      <td>1</td>\n",
       "      <td>Stone, Mrs. George Nelson (Martha Evelyn)</td>\n",
       "      <td>1</td>\n",
       "      <td>62.0</td>\n",
       "      <td>0</td>\n",
       "      <td>0</td>\n",
       "      <td>80.0</td>\n",
       "      <td>NaN</td>\n",
       "    </tr>\n",
       "  </tbody>\n",
       "</table>\n",
       "</div>"
      ],
      "text/plain": [
       "             Survived  Pclass                                       Name  Sex  \\\n",
       "PassengerId                                                                     \n",
       "62                  1       1                        Icard, Miss. Amelie    1   \n",
       "830                 1       1  Stone, Mrs. George Nelson (Martha Evelyn)    1   \n",
       "\n",
       "              Age  SibSp  Parch  Fare Embarked  \n",
       "PassengerId                                     \n",
       "62           38.0      0      0  80.0      NaN  \n",
       "830          62.0      0      0  80.0      NaN  "
      ]
     },
     "execution_count": 21,
     "metadata": {},
     "output_type": "execute_result"
    }
   ],
   "source": [
    "titanic_new[titanic_new['Embarked'].isna()]"
   ]
  },
  {
   "cell_type": "markdown",
   "metadata": {},
   "source": [
    "There might be some problem with this two rows, because each person was travelling alone, so it's quite hard to navigate where they come from. Because of the fact that this variable is non numerical, it might be good idea to fill NA with the most frequent value."
   ]
  },
  {
   "cell_type": "code",
   "execution_count": 22,
   "metadata": {},
   "outputs": [
    {
     "data": {
      "text/plain": [
       "S    644\n",
       "C    168\n",
       "Q     77\n",
       "Name: Embarked, dtype: int64"
      ]
     },
     "execution_count": 22,
     "metadata": {},
     "output_type": "execute_result"
    }
   ],
   "source": [
    "titanic_new['Embarked'].value_counts()"
   ]
  },
  {
   "cell_type": "code",
   "execution_count": 23,
   "metadata": {},
   "outputs": [],
   "source": [
    "# Filling NA values with the S value (Southampton city)\n",
    "titanic_new['Embarked'] = titanic_new['Embarked'].fillna(\"S\")"
   ]
  },
  {
   "cell_type": "markdown",
   "metadata": {},
   "source": [
    "#### Name"
   ]
  },
  {
   "cell_type": "markdown",
   "metadata": {},
   "source": [
    "Let's see the uniqness of the Name variable. Probably, all the cells are unique - if so, I will jest get rid of this column."
   ]
  },
  {
   "cell_type": "code",
   "execution_count": 24,
   "metadata": {},
   "outputs": [
    {
     "data": {
      "text/plain": [
       "True"
      ]
     },
     "execution_count": 24,
     "metadata": {},
     "output_type": "execute_result"
    }
   ],
   "source": [
    "len(titanic_new['Name'].unique()) == len(titanic_new['Name'])"
   ]
  },
  {
   "cell_type": "markdown",
   "metadata": {},
   "source": [
    "Answer is True, so I will do what I wrote earlier"
   ]
  },
  {
   "cell_type": "code",
   "execution_count": 25,
   "metadata": {},
   "outputs": [],
   "source": [
    "titanic_new.drop(columns = 'Name', inplace = True)"
   ]
  },
  {
   "cell_type": "markdown",
   "metadata": {},
   "source": [
    "Ok, so before making any visualisation, let's see how currently the data looks like."
   ]
  },
  {
   "cell_type": "code",
   "execution_count": 26,
   "metadata": {},
   "outputs": [
    {
     "data": {
      "text/html": [
       "<div>\n",
       "<style scoped>\n",
       "    .dataframe tbody tr th:only-of-type {\n",
       "        vertical-align: middle;\n",
       "    }\n",
       "\n",
       "    .dataframe tbody tr th {\n",
       "        vertical-align: top;\n",
       "    }\n",
       "\n",
       "    .dataframe thead th {\n",
       "        text-align: right;\n",
       "    }\n",
       "</style>\n",
       "<table border=\"1\" class=\"dataframe\">\n",
       "  <thead>\n",
       "    <tr style=\"text-align: right;\">\n",
       "      <th></th>\n",
       "      <th>Survived</th>\n",
       "      <th>Pclass</th>\n",
       "      <th>Sex</th>\n",
       "      <th>Age</th>\n",
       "      <th>SibSp</th>\n",
       "      <th>Parch</th>\n",
       "      <th>Fare</th>\n",
       "      <th>Embarked</th>\n",
       "    </tr>\n",
       "    <tr>\n",
       "      <th>PassengerId</th>\n",
       "      <th></th>\n",
       "      <th></th>\n",
       "      <th></th>\n",
       "      <th></th>\n",
       "      <th></th>\n",
       "      <th></th>\n",
       "      <th></th>\n",
       "      <th></th>\n",
       "    </tr>\n",
       "  </thead>\n",
       "  <tbody>\n",
       "    <tr>\n",
       "      <th>1</th>\n",
       "      <td>0</td>\n",
       "      <td>3</td>\n",
       "      <td>0</td>\n",
       "      <td>22.0</td>\n",
       "      <td>1</td>\n",
       "      <td>0</td>\n",
       "      <td>7.2500</td>\n",
       "      <td>S</td>\n",
       "    </tr>\n",
       "    <tr>\n",
       "      <th>2</th>\n",
       "      <td>1</td>\n",
       "      <td>1</td>\n",
       "      <td>1</td>\n",
       "      <td>38.0</td>\n",
       "      <td>1</td>\n",
       "      <td>0</td>\n",
       "      <td>71.2833</td>\n",
       "      <td>C</td>\n",
       "    </tr>\n",
       "    <tr>\n",
       "      <th>3</th>\n",
       "      <td>1</td>\n",
       "      <td>3</td>\n",
       "      <td>1</td>\n",
       "      <td>26.0</td>\n",
       "      <td>0</td>\n",
       "      <td>0</td>\n",
       "      <td>7.9250</td>\n",
       "      <td>S</td>\n",
       "    </tr>\n",
       "    <tr>\n",
       "      <th>4</th>\n",
       "      <td>1</td>\n",
       "      <td>1</td>\n",
       "      <td>1</td>\n",
       "      <td>35.0</td>\n",
       "      <td>1</td>\n",
       "      <td>0</td>\n",
       "      <td>53.1000</td>\n",
       "      <td>S</td>\n",
       "    </tr>\n",
       "    <tr>\n",
       "      <th>5</th>\n",
       "      <td>0</td>\n",
       "      <td>3</td>\n",
       "      <td>0</td>\n",
       "      <td>35.0</td>\n",
       "      <td>0</td>\n",
       "      <td>0</td>\n",
       "      <td>8.0500</td>\n",
       "      <td>S</td>\n",
       "    </tr>\n",
       "  </tbody>\n",
       "</table>\n",
       "</div>"
      ],
      "text/plain": [
       "             Survived  Pclass  Sex   Age  SibSp  Parch     Fare Embarked\n",
       "PassengerId                                                             \n",
       "1                   0       3    0  22.0      1      0   7.2500        S\n",
       "2                   1       1    1  38.0      1      0  71.2833        C\n",
       "3                   1       3    1  26.0      0      0   7.9250        S\n",
       "4                   1       1    1  35.0      1      0  53.1000        S\n",
       "5                   0       3    0  35.0      0      0   8.0500        S"
      ]
     },
     "execution_count": 26,
     "metadata": {},
     "output_type": "execute_result"
    }
   ],
   "source": [
    "titanic_new.head()"
   ]
  },
  {
   "cell_type": "code",
   "execution_count": 27,
   "metadata": {},
   "outputs": [
    {
     "data": {
      "text/html": [
       "<div>\n",
       "<style scoped>\n",
       "    .dataframe tbody tr th:only-of-type {\n",
       "        vertical-align: middle;\n",
       "    }\n",
       "\n",
       "    .dataframe tbody tr th {\n",
       "        vertical-align: top;\n",
       "    }\n",
       "\n",
       "    .dataframe thead th {\n",
       "        text-align: right;\n",
       "    }\n",
       "</style>\n",
       "<table border=\"1\" class=\"dataframe\">\n",
       "  <thead>\n",
       "    <tr style=\"text-align: right;\">\n",
       "      <th></th>\n",
       "      <th>Survived</th>\n",
       "      <th>Pclass</th>\n",
       "      <th>Sex</th>\n",
       "      <th>Age</th>\n",
       "      <th>SibSp</th>\n",
       "      <th>Parch</th>\n",
       "      <th>Fare</th>\n",
       "      <th>Embarked</th>\n",
       "    </tr>\n",
       "    <tr>\n",
       "      <th>PassengerId</th>\n",
       "      <th></th>\n",
       "      <th></th>\n",
       "      <th></th>\n",
       "      <th></th>\n",
       "      <th></th>\n",
       "      <th></th>\n",
       "      <th></th>\n",
       "      <th></th>\n",
       "    </tr>\n",
       "  </thead>\n",
       "  <tbody>\n",
       "    <tr>\n",
       "      <th>133</th>\n",
       "      <td>0</td>\n",
       "      <td>3</td>\n",
       "      <td>1</td>\n",
       "      <td>47.0</td>\n",
       "      <td>1</td>\n",
       "      <td>0</td>\n",
       "      <td>14.5</td>\n",
       "      <td>S</td>\n",
       "    </tr>\n",
       "  </tbody>\n",
       "</table>\n",
       "</div>"
      ],
      "text/plain": [
       "             Survived  Pclass  Sex   Age  SibSp  Parch  Fare Embarked\n",
       "PassengerId                                                          \n",
       "133                 0       3    1  47.0      1      0  14.5        S"
      ]
     },
     "execution_count": 27,
     "metadata": {},
     "output_type": "execute_result"
    }
   ],
   "source": [
    "titanic_new.sample()"
   ]
  },
  {
   "cell_type": "markdown",
   "metadata": {},
   "source": [
    "## 4. Visualisations"
   ]
  },
  {
   "cell_type": "markdown",
   "metadata": {},
   "source": [
    "#### Explained variable - survived"
   ]
  },
  {
   "cell_type": "markdown",
   "metadata": {},
   "source": [
    "At first let's dive into the Survived variable, for which a proper assessment is pivotal"
   ]
  },
  {
   "cell_type": "code",
   "execution_count": 28,
   "metadata": {},
   "outputs": [
    {
     "data": {
      "image/png": "[encoded data removed]",
      "text/plain": [
       "<Figure size 1080x360 with 1 Axes>"
      ]
     },
     "metadata": {
      "needs_background": "light"
     },
     "output_type": "display_data"
    }
   ],
   "source": [
    "fig, ax = plt.subplots(figsize = (15,5))\n",
    "\n",
    "ax = sns.countplot(x = \"Survived\",\n",
    "                   data = titanic_new,\n",
    "                   palette = \"flare\")\n",
    "ax.set_title(\"Distribution of survival\", fontsize = 20)\n",
    "ax.set_xlabel(\"Survived\", fontsize = 15)\n",
    "ax.set_ylabel(\"Count\", fontsize = 15)\n",
    "\n",
    "for annot in ax.containers:\n",
    "    ax.bar_label(annot, label_type = \"center\", size = 20)"
   ]
  },
  {
   "cell_type": "markdown",
   "metadata": {},
   "source": [
    "#### Age"
   ]
  },
  {
   "cell_type": "code",
   "execution_count": 29,
   "metadata": {},
   "outputs": [
    {
     "data": {
      "image/png": "[encoded data removed]",
      "text/plain": [
       "<Figure size 1080x720 with 4 Axes>"
      ]
     },
     "metadata": {
      "needs_background": "light"
     },
     "output_type": "display_data"
    }
   ],
   "source": [
    "import matplotlib.patches as mpatches\n",
    "\n",
    "fig, axs = plt.subplots(2,2, figsize = (15,10))\n",
    "\n",
    "# Age Boxplot\n",
    "axs[0,0].boxplot(titanic_new['Age'])\n",
    "axs[0,0].set_title(\"Boxplot for Age\", fontsize = 20)\n",
    "axs[0,0].set_xlabel('Age')\n",
    "axs[0,0].set_ylabel('Count')\n",
    "red_patch = mpatches.Patch(color = \"orange\", label='Median of age is equal to {}.\\n'\n",
    "                                            .format(round(np.median(titanic_new['Age']), 2)))\n",
    "axs[0,0].legend(handles=[red_patch], prop={'size':9})\n",
    "\n",
    "# Age histogram\n",
    "axs[0,1].hist(titanic_new['Age'],\n",
    "              bins=30,\n",
    "              color = 'red')\n",
    "axs[0,1].grid()\n",
    "axs[0,1].set_title(\"Histogram for Age\", fontsize = 20)\n",
    "axs[0,1].set_xlabel('Age', fontsize = 10)\n",
    "axs[0,1].set_ylabel('Count', fontsize = 15)\n",
    "\n",
    "# Age histogram grouped by Females\n",
    "axs[1,0].hist(titanic_new[titanic_new[\"Sex\"] == 0][\"Age\"],\n",
    "                bins = 30,\n",
    "                color = 'blue')\n",
    "axs[1,0].grid()\n",
    "axs[1,0].set_title(\"Distribution for Age-Male\")\n",
    "axs[1,0].set_xlabel('Age', fontsize = 20)\n",
    "axs[1,0].set_ylabel('Count', fontsize = 15)\n",
    "\n",
    "# Age histogram grouped by Males\n",
    "axs[1,1].hist(titanic_new[titanic_new[\"Sex\"] == 1][\"Age\"],\n",
    "              bins=30,\n",
    "              color = 'green')\n",
    "axs[1,1].grid()\n",
    "axs[1,1].set_title(\"Distribution for Age-Female\")\n",
    "axs[1,1].set_xlabel('Age', fontsize = 20)\n",
    "axs[1,1].set_ylabel('Count', fontsize = 15)\n",
    "\n",
    "\n",
    "plt.show()"
   ]
  },
  {
   "cell_type": "markdown",
   "metadata": {},
   "source": [
    "#### Sex"
   ]
  },
  {
   "cell_type": "code",
   "execution_count": 30,
   "metadata": {},
   "outputs": [
    {
     "data": {
      "image/png": "[encoded data removed]",
      "text/plain": [
       "<Figure size 1080x360 with 1 Axes>"
      ]
     },
     "metadata": {
      "needs_background": "light"
     },
     "output_type": "display_data"
    }
   ],
   "source": [
    "fig, ax = plt.subplots(figsize = (15,5))\n",
    "\n",
    "ax = sns.countplot(x = \"Sex\",\n",
    "                   hue = \"Survived\",\n",
    "                   data = titanic_new,\n",
    "                   palette = \"flare\")\n",
    "ax.set_title(\"Survival based on Sex\", fontsize = 20)\n",
    "ax.set_xlabel(\"Sex\", fontsize = 15)\n",
    "ax.set_ylabel(\"Count\", fontsize = 15)\n",
    "\n",
    "for annot in ax.containers:\n",
    "    ax.bar_label(annot, label_type = \"center\", size = 20)"
   ]
  },
  {
   "cell_type": "markdown",
   "metadata": {},
   "source": [
    "#### Pclass"
   ]
  },
  {
   "cell_type": "code",
   "execution_count": 84,
   "metadata": {},
   "outputs": [
    {
     "data": {
      "image/png": "[encoded data removed]",
      "text/plain": [
       "<Figure size 921.6x460.8 with 4 Axes>"
      ]
     },
     "metadata": {
      "needs_background": "light"
     },
     "output_type": "display_data"
    },
    {
     "data": {
      "image/png": "[encoded data removed]",
      "text/plain": [
       "<Figure size 1080x360 with 1 Axes>"
      ]
     },
     "metadata": {
      "needs_background": "light"
     },
     "output_type": "display_data"
    }
   ],
   "source": [
    "axs_facet_grid = sns.FacetGrid(titanic_new, col=\"Sex\",  row=\"Survived\", height = 3.2, aspect= 2)\n",
    "axs_facet_grid.map(sns.countplot, \"Pclass\", palette = \"rainbow\")\n",
    "plt.show()\n",
    "\n",
    "plt.subplots(figsize = (15,5))\n",
    "titanic_new[\"Fare\"].hist(color=\"grey\",\n",
    "                         bins=50).set_title(\"Prices of tickets\", fontsize=15)\n",
    "plt.xlabel(\"Price\", fontsize=15)\n",
    "plt.ylabel(\"Ticket number\", fontsize=15)\n",
    "plt.xticks(fontsize=12)\n",
    "plt.yticks(fontsize=12)\n",
    "plt.show()"
   ]
  },
  {
   "cell_type": "markdown",
   "metadata": {},
   "source": [
    "#### SibSp and Parch"
   ]
  },
  {
   "cell_type": "code",
   "execution_count": 38,
   "metadata": {},
   "outputs": [
    {
     "data": {
      "image/png": "[encoded data removed]",
      "text/plain": [
       "<Figure size 864x504 with 2 Axes>"
      ]
     },
     "metadata": {
      "needs_background": "light"
     },
     "output_type": "display_data"
    }
   ],
   "source": [
    "columns = ['SibSp','Parch']\n",
    "\n",
    "n_rows = 1\n",
    "n_cols = 2\n",
    "\n",
    "# The subplot grid and figure size of each graph\n",
    "\n",
    "fig, axs = plt.subplots(n_rows, n_cols, figsize = (n_cols*6, n_rows*7))\n",
    "\n",
    "for cols in range(0, n_cols):\n",
    "    for rows in range(0, n_rows +1):\n",
    "        \n",
    "        temp = cols\n",
    "        ax = axs[cols] # If I distributed it like 2x3 then maybe I would do something like this: ax[s][r]\n",
    "        palette = ['viridis', 'plasma']\n",
    "        sns.countplot(titanic_new[columns[temp]], hue = titanic_new['Survived'], ax=ax, palette = palette[cols])\n",
    "        ax.set_title('Countplot for {}'.format(columns[temp]), fontsize = 20)\n",
    "        ax.set_xlabel(columns[temp], fontsize = 15)\n",
    "        ax.legend(title = 'survived', loc = 'upper right')\n",
    "    \n",
    "plt.tight_layout()"
   ]
  },
  {
   "cell_type": "markdown",
   "metadata": {},
   "source": [
    "## 5. Feature selection"
   ]
  },
  {
   "cell_type": "markdown",
   "metadata": {},
   "source": [
    "### 5.1. Dummying"
   ]
  },
  {
   "cell_type": "markdown",
   "metadata": {},
   "source": [
    "Embarked variable is not numerical, so in this case I will divide it into levels which will change data into binary values."
   ]
  },
  {
   "cell_type": "code",
   "execution_count": 33,
   "metadata": {},
   "outputs": [],
   "source": [
    "titanic_new = pd.get_dummies(titanic_new, columns = [\"Embarked\"], drop_first = True)\n"
   ]
  },
  {
   "cell_type": "code",
   "execution_count": 34,
   "metadata": {},
   "outputs": [
    {
     "data": {
      "text/html": [
       "<div>\n",
       "<style scoped>\n",
       "    .dataframe tbody tr th:only-of-type {\n",
       "        vertical-align: middle;\n",
       "    }\n",
       "\n",
       "    .dataframe tbody tr th {\n",
       "        vertical-align: top;\n",
       "    }\n",
       "\n",
       "    .dataframe thead th {\n",
       "        text-align: right;\n",
       "    }\n",
       "</style>\n",
       "<table border=\"1\" class=\"dataframe\">\n",
       "  <thead>\n",
       "    <tr style=\"text-align: right;\">\n",
       "      <th></th>\n",
       "      <th>Survived</th>\n",
       "      <th>Pclass</th>\n",
       "      <th>Sex</th>\n",
       "      <th>Age</th>\n",
       "      <th>SibSp</th>\n",
       "      <th>Parch</th>\n",
       "      <th>Fare</th>\n",
       "      <th>Embarked_Q</th>\n",
       "      <th>Embarked_S</th>\n",
       "    </tr>\n",
       "    <tr>\n",
       "      <th>PassengerId</th>\n",
       "      <th></th>\n",
       "      <th></th>\n",
       "      <th></th>\n",
       "      <th></th>\n",
       "      <th></th>\n",
       "      <th></th>\n",
       "      <th></th>\n",
       "      <th></th>\n",
       "      <th></th>\n",
       "    </tr>\n",
       "  </thead>\n",
       "  <tbody>\n",
       "    <tr>\n",
       "      <th>623</th>\n",
       "      <td>1</td>\n",
       "      <td>3</td>\n",
       "      <td>0</td>\n",
       "      <td>20.0</td>\n",
       "      <td>1</td>\n",
       "      <td>1</td>\n",
       "      <td>15.7417</td>\n",
       "      <td>0</td>\n",
       "      <td>0</td>\n",
       "    </tr>\n",
       "  </tbody>\n",
       "</table>\n",
       "</div>"
      ],
      "text/plain": [
       "             Survived  Pclass  Sex   Age  SibSp  Parch     Fare  Embarked_Q  \\\n",
       "PassengerId                                                                   \n",
       "623                 1       3    0  20.0      1      1  15.7417           0   \n",
       "\n",
       "             Embarked_S  \n",
       "PassengerId              \n",
       "623                   0  "
      ]
     },
     "execution_count": 34,
     "metadata": {},
     "output_type": "execute_result"
    }
   ],
   "source": [
    "titanic_new.sample() "
   ]
  },
  {
   "cell_type": "code",
   "execution_count": 35,
   "metadata": {},
   "outputs": [
    {
     "data": {
      "text/plain": [
       "0    577\n",
       "1    314\n",
       "Name: Sex, dtype: int64"
      ]
     },
     "execution_count": 35,
     "metadata": {},
     "output_type": "execute_result"
    }
   ],
   "source": [
    "titanic_new[\"Sex\"].value_counts()"
   ]
  },
  {
   "cell_type": "markdown",
   "metadata": {},
   "source": [
    "### 5.2. Measures of Association"
   ]
  },
  {
   "cell_type": "markdown",
   "metadata": {},
   "source": [
    "Now, I will try to define which variables will be taken into account in the modelling part. Obviously, my data is not continuous one, so in this case I have to calculate some measures based on the data character."
   ]
  },
  {
   "cell_type": "markdown",
   "metadata": {},
   "source": [
    "#### 5.2.1. Nominal variable vs nominal variable"
   ]
  },
  {
   "cell_type": "code",
   "execution_count": 36,
   "metadata": {},
   "outputs": [
    {
     "name": "stdout",
     "output_type": "stream",
     "text": [
      "p value is 1.1973570627755645e-58\n",
      "Dependent (reject H0)\n"
     ]
    }
   ],
   "source": [
    "# Survived vs Sex\n",
    "\n",
    "from scipy.stats import chi2_contingency\n",
    "  \n",
    "# defining the table\n",
    "titanic_survived_sex_table = pd.crosstab(index = titanic_new[\"Survived\"], columns = titanic_new[\"Sex\"])\n",
    "stat, p, dof, expected = chi2_contingency(titanic_survived_sex_table)\n",
    "  \n",
    "# interpret p-value\n",
    "alpha = 0.05\n",
    "print(\"p value is \" + str(p))\n",
    "if p <= alpha:\n",
    "    print('Dependent (reject H0)')\n",
    "else:\n",
    "    print('Independent (H0 holds true)') # Variables are correlated"
   ]
  },
  {
   "cell_type": "code",
   "execution_count": 37,
   "metadata": {},
   "outputs": [
    {
     "name": "stdout",
     "output_type": "stream",
     "text": [
      "p value is 1.1291808110540787e-05\n",
      "Dependent (reject H0)\n"
     ]
    }
   ],
   "source": [
    "# Survived vs Embarked_S\n",
    "\n",
    "# defining the table\n",
    "titanic_survived_embarkeds_table = pd.crosstab(index = titanic_new[\"Survived\"], columns = titanic_new[\"Embarked_S\"])\n",
    "stat, p, dof, expected = chi2_contingency(titanic_survived_embarkeds_table)\n",
    "  \n",
    "# interpret p-value\n",
    "alpha = 0.05\n",
    "print(\"p value is \" + str(p))\n",
    "if p <= alpha:\n",
    "    print('Dependent (reject H0)')\n",
    "else:\n",
    "    print('Independent (H0 holds true)') # Variables are correlated."
   ]
  },
  {
   "cell_type": "code",
   "execution_count": 38,
   "metadata": {},
   "outputs": [
    {
     "name": "stdout",
     "output_type": "stream",
     "text": [
      "p value is 0.9891328942213099\n",
      "Independent (H0 holds true)\n"
     ]
    }
   ],
   "source": [
    "# Survived vs Embarked_Q\n",
    "\n",
    "# defining the table\n",
    "titanic_survived_embarkedq_table = pd.crosstab(index = titanic_new[\"Survived\"], columns = titanic_new[\"Embarked_Q\"])\n",
    "stat, p, dof, expected = chi2_contingency(titanic_survived_embarkedq_table)\n",
    "  \n",
    "# interpret p-value\n",
    "alpha = 0.05\n",
    "print(\"p value is \" + str(p))\n",
    "if p <= alpha:\n",
    "    print('Dependent (reject H0)')\n",
    "else:\n",
    "    print('Independent (H0 holds true)') # Variables are not correlated."
   ]
  },
  {
   "cell_type": "code",
   "execution_count": 39,
   "metadata": {},
   "outputs": [
    {
     "name": "stdout",
     "output_type": "stream",
     "text": [
      "p value is 2.1553492671799716e-49\n",
      "Dependent (reject H0)\n"
     ]
    }
   ],
   "source": [
    "# Embarked_Q vs Embarked_S\n",
    "\n",
    "# defining the table\n",
    "titanic_embarkeds_embarkedq_table = pd.crosstab(index = titanic_new[\"Embarked_S\"], columns = titanic_new[\"Embarked_Q\"])\n",
    "stat, p, dof, expected = chi2_contingency(titanic_embarkeds_embarkedq_table)\n",
    "  \n",
    "# interpret p-value\n",
    "alpha = 0.05\n",
    "print(\"p value is \" + str(p))\n",
    "if p <= alpha:\n",
    "    print('Dependent (reject H0)')\n",
    "else:\n",
    "    print('Independent (H0 holds true)') # Therefore independent variables are correlated which is wrong."
   ]
  },
  {
   "cell_type": "code",
   "execution_count": 40,
   "metadata": {},
   "outputs": [
    {
     "name": "stdout",
     "output_type": "stream",
     "text": [
      "p value is 0.0005009382756296058\n",
      "Dependent (reject H0)\n"
     ]
    }
   ],
   "source": [
    "# Embarked_Q vs Sex\n",
    "\n",
    "# defining the table\n",
    "titanic_embarkeds_sex_table = pd.crosstab(index = titanic_new[\"Embarked_S\"], columns = titanic_new[\"Sex\"])\n",
    "stat, p, dof, expected = chi2_contingency(titanic_embarkeds_sex_table)\n",
    "  \n",
    "# interpret p-value\n",
    "alpha = 0.05\n",
    "print(\"p value is \" + str(p))\n",
    "if p <= alpha:\n",
    "    print('Dependent (reject H0)')\n",
    "else:\n",
    "    print('Independent (H0 holds true)') # Therefore independent variables are correlated which is wrong."
   ]
  },
  {
   "cell_type": "markdown",
   "metadata": {},
   "source": [
    "**Result**: Most probably Embarked_Q variable should be ommited. "
   ]
  },
  {
   "cell_type": "markdown",
   "metadata": {},
   "source": [
    "#### 5.2.2. Nominal variable vs Ordinal variable"
   ]
  },
  {
   "cell_type": "code",
   "execution_count": 41,
   "metadata": {},
   "outputs": [
    {
     "name": "stdout",
     "output_type": "stream",
     "text": [
      "df          2\n",
      "pvalue      0.36787944117144245\n",
      "statistic   2.0\n"
     ]
    }
   ],
   "source": [
    "# Survived vs Pclass\n",
    "from statsmodels.stats.contingency_tables import cochrans_q\n",
    "\n",
    "titanic_survived_pclass_table = pd.crosstab(index = titanic_new[\"Survived\"], columns = titanic_new[\"Pclass\"])\n",
    "print(cochrans_q(titanic_survived_pclass_table)) # Variable Pclass is not correlated with Survived\n"
   ]
  },
  {
   "cell_type": "markdown",
   "metadata": {},
   "source": [
    "Nevertheless, I will also consider Pclass variable as continuous one."
   ]
  },
  {
   "cell_type": "markdown",
   "metadata": {},
   "source": [
    "#### 5.2.3. Correlations"
   ]
  },
  {
   "cell_type": "markdown",
   "metadata": {},
   "source": [
    "In order to use Pearson Correlation, the data should be similar to normal distribution, which is not always so obvious. In order to confirm my thesis, I will conduct Shapiro test in order to assess the normality.\n"
   ]
  },
  {
   "cell_type": "code",
   "execution_count": 42,
   "metadata": {},
   "outputs": [
    {
     "data": {
      "text/plain": [
       "{'Survived': 1.7945308393836472e-40,\n",
       " 'Pclass': 3.3958319924210316e-36,\n",
       " 'Age': 9.198061005550088e-16,\n",
       " 'SibSp': 5.74532370373175e-44,\n",
       " 'Parch': 2.382207389352189e-43,\n",
       " 'Fare': 1.0789998175301091e-43,\n",
       " 'Embarked_Q': 0.0,\n",
       " 'Embarked_S': 1.6044867416519155e-42}"
      ]
     },
     "execution_count": 42,
     "metadata": {},
     "output_type": "execute_result"
    }
   ],
   "source": [
    "from scipy import stats\n",
    "\n",
    "numerical_col = ['Survived', 'Pclass', 'Age', 'SibSp', 'Parch', 'Fare', 'Embarked_Q', 'Embarked_S']\n",
    "\n",
    "shapiro_pvalues = {}\n",
    "\n",
    "for columnName in numerical_col:\n",
    "    shapiro_test = stats.shapiro(titanic_new[columnName])\n",
    "    shapiro_pvalues.update({columnName:shapiro_test.pvalue})\n",
    "    \n",
    "shapiro_pvalues "
   ]
  },
  {
   "cell_type": "markdown",
   "metadata": {},
   "source": [
    "Because of the fact that for each numerical variable, pvalue is lower than 0.05 I have to reject ShapiroWilk's test null hypothesis.\n",
    "Based on that, the data is normalized so, I should check Spearman correlation."
   ]
  },
  {
   "cell_type": "markdown",
   "metadata": {},
   "source": [
    "#### 5.2.3.1. Spearman correlation"
   ]
  },
  {
   "cell_type": "code",
   "execution_count": 43,
   "metadata": {},
   "outputs": [
    {
     "data": {
      "image/png": "[encoded data removed]",
      "text/plain": [
       "<Figure size 1080x504 with 2 Axes>"
      ]
     },
     "metadata": {
      "needs_background": "light"
     },
     "output_type": "display_data"
    }
   ],
   "source": [
    "plt.figure (figsize = (15,7)) \n",
    "cor = titanic_new.corr(method = \"spearman\") \n",
    "sns.heatmap(cor, annot = True) \n",
    "plt.show()"
   ]
  },
  {
   "cell_type": "markdown",
   "metadata": {},
   "source": [
    "Based on the presented matrix and conducted tests, mostly I am interested in correlations between independent variables ones. I will remove Sex, Pclass and Embarked_Q."
   ]
  },
  {
   "cell_type": "markdown",
   "metadata": {},
   "source": [
    "## 6. Modelling Part"
   ]
  },
  {
   "cell_type": "markdown",
   "metadata": {},
   "source": [
    "Let's introduce Logistic Regression as my based model, which will be my benchmark."
   ]
  },
  {
   "cell_type": "code",
   "execution_count": 44,
   "metadata": {},
   "outputs": [],
   "source": [
    "X_variables = titanic_new[[\"Fare\",\"Age\", \"SibSp\", \"Parch\", \"Embarked_S\"]]\n",
    "Y_variable = titanic_new[\"Survived\"]"
   ]
  },
  {
   "cell_type": "code",
   "execution_count": 45,
   "metadata": {},
   "outputs": [
    {
     "data": {
      "text/plain": [
       "0.3838383838383838"
      ]
     },
     "execution_count": 45,
     "metadata": {},
     "output_type": "execute_result"
    }
   ],
   "source": [
    "sum(Y_variable)/len(Y_variable)"
   ]
  },
  {
   "cell_type": "markdown",
   "metadata": {},
   "source": [
    "Because of the fact, that the percentage of people who survived is not the same as deaths, I will stratify the data."
   ]
  },
  {
   "cell_type": "code",
   "execution_count": 46,
   "metadata": {},
   "outputs": [],
   "source": [
    "from sklearn.model_selection import train_test_split\n",
    "\n",
    "X_train, X_test, y_train, y_test = train_test_split(X_variables, Y_variable, test_size = 0.2, random_state = 0, stratify = Y_variable)"
   ]
  },
  {
   "cell_type": "code",
   "execution_count": 47,
   "metadata": {},
   "outputs": [
    {
     "name": "stdout",
     "output_type": "stream",
     "text": [
      "0.38342696629213485 0.3854748603351955\n"
     ]
    }
   ],
   "source": [
    "print(sum(y_train)/len(X_train), sum(y_test)/len(X_test))"
   ]
  },
  {
   "cell_type": "markdown",
   "metadata": {},
   "source": [
    "Coefficient of survival in train and test datasets is equal, so I can start modelling."
   ]
  },
  {
   "cell_type": "markdown",
   "metadata": {},
   "source": [
    "### 6.1. Logistic Regression"
   ]
  },
  {
   "cell_type": "code",
   "execution_count": 48,
   "metadata": {},
   "outputs": [],
   "source": [
    "# Implementing logistic regression\n",
    "logistic_regression = LogisticRegression(C = 100)\n",
    "logistic_regression.fit(X_train, y_train)\n",
    "\n",
    "# Predictions\n",
    "train_prediction_logit = logistic_regression.predict(X_train)\n",
    "test_prediction_logit = logistic_regression.predict(X_test)"
   ]
  },
  {
   "cell_type": "markdown",
   "metadata": {},
   "source": [
    "#### 6.1.1. Logistic Regression - confusion matrix, ROC_AUC"
   ]
  },
  {
   "cell_type": "code",
   "execution_count": 49,
   "metadata": {},
   "outputs": [
    {
     "name": "stdout",
     "output_type": "stream",
     "text": [
      "**************************************************\n"
     ]
    },
    {
     "data": {
      "image/png": "[encoded data removed]",
      "text/plain": [
       "<Figure size 720x504 with 2 Axes>"
      ]
     },
     "metadata": {
      "needs_background": "light"
     },
     "output_type": "display_data"
    },
    {
     "data": {
      "image/png": "[encoded data removed]",
      "text/plain": [
       "<Figure size 1080x360 with 1 Axes>"
      ]
     },
     "metadata": {
      "needs_background": "light"
     },
     "output_type": "display_data"
    }
   ],
   "source": [
    "pd.set_option('display.float_format', lambda x: '%.4f' % x)\n",
    "\n",
    "def confusion_matrix_roc_auc():\n",
    "    \n",
    "    \n",
    "    # Confusion_matrix\n",
    "    plt.figure(figsize=(10, 7))\n",
    "    confusion_matrix_logistic = confusion_matrix(y_test, test_prediction_logit)\n",
    "    confusion_matrix_logistic_chart = pd.DataFrame(confusion_matrix_logistic, \n",
    "                                   columns = [\"Actual Positive:1\", \"Actual Negative:0\"],\n",
    "                                  index = [\"Predict Positive: 1\", \"Predict Negative: 0\"])\n",
    "    \n",
    "    sns.heatmap(confusion_matrix_logistic_chart, annot = True, fmt = 'g').set(title = \"Confusion Matrix - Logistic Regression\")\n",
    "    \n",
    "    print(\"*\"*50)\n",
    "    \n",
    "    fig, ax = plt.subplots(figsize=(15,5))\n",
    "    \n",
    "    #ROC curve plot\n",
    "    y_pred_proba_logistic = logistic_regression.predict_proba(X_test)[::,1]\n",
    "    fpr, tpr, thresholds = roc_curve(y_test, y_pred_proba_logistic)\n",
    "    roc_score_logistic = roc_auc_score(y_test, y_pred_proba_logistic)\n",
    "    roc_score_logistic = round(roc_score_logistic, 3)\n",
    "    ax.plot(fpr, tpr, label=\"Logistic Regression - AUC: {}\".format(roc_score_logistic), color=\"red\", linewidth = 2)\n",
    "    ax.set_xlabel(\"False Positive Rate\")\n",
    "    ax.set_ylabel(\"True Positive Rate\")\n",
    "    ax.set_title(\"ROC_AUC\", fontsize=20)\n",
    "    ax.legend(loc=\"lower right\")\n",
    "    ax.legend(loc=4)\n",
    "    ax.plot([0, 1], [0, 1], color = \"navy\", linestyle = \"--\")\n",
    "    plt.show()\n",
    "    \n",
    "confusion_matrix_roc_auc()"
   ]
  },
  {
   "cell_type": "code",
   "execution_count": 256,
   "metadata": {},
   "outputs": [],
   "source": [
    "y_pred_proba_logistic = logistic_regression.predict_proba(X_test)[::,1]\n",
    "roc_score_logistic = roc_auc_score(y_test, y_pred_proba_logistic)\n",
    "\n",
    "import pickle\n",
    "\n",
    "model_logistic = {\"Model\": \"LogisticRegression\",\n",
    "                      \"ROC_AUC_score\": roc_score_logistic}\n",
    "\n",
    "with open(\"model_logistic.p\", \"wb\") as save:\n",
    "    pickle.dump(model_logistic, save)"
   ]
  },
  {
   "cell_type": "markdown",
   "metadata": {},
   "source": [
    "### 6.2. Random Forest"
   ]
  },
  {
   "cell_type": "code",
   "execution_count": 51,
   "metadata": {},
   "outputs": [],
   "source": [
    "# Implementing random forest\n",
    "random_forest = RandomForestClassifier()\n",
    "random_forest.fit(X_train, y_train)\n",
    "\n",
    "# Predictions\n",
    "train_prediction_rf = random_forest.predict(X_train)\n",
    "test_prediction_rf= random_forest.predict(X_test)"
   ]
  },
  {
   "cell_type": "markdown",
   "metadata": {},
   "source": [
    "#### 6.2.1. Random Forest - confusion matrix, ROC_AUC"
   ]
  },
  {
   "cell_type": "code",
   "execution_count": 52,
   "metadata": {},
   "outputs": [
    {
     "data": {
      "image/png": "[encoded data removed]",
      "text/plain": [
       "<Figure size 720x504 with 2 Axes>"
      ]
     },
     "metadata": {
      "needs_background": "light"
     },
     "output_type": "display_data"
    },
    {
     "data": {
      "image/png": "[encoded data removed]",
      "text/plain": [
       "<Figure size 1080x360 with 1 Axes>"
      ]
     },
     "metadata": {
      "needs_background": "light"
     },
     "output_type": "display_data"
    }
   ],
   "source": [
    "pd.set_option('display.float_format', lambda x: '%.4f' % x)\n",
    "\n",
    "def confusion_matrix_roc_auc_rf():\n",
    "    \n",
    "    \n",
    "    # Confusion_matrix\n",
    "    plt.figure(figsize=(10, 7))\n",
    "    confusion_matrix_rf = confusion_matrix(y_test, test_prediction_rf)\n",
    "    confusion_matrix_rf_chart = pd.DataFrame(confusion_matrix_rf, \n",
    "                                   columns = [\"Actual Positive:1\", \"Actual Negative:0\"],\n",
    "                                  index = [\"Predict Positive: 1\", \"Predict Negative: 0\"])\n",
    "    \n",
    "    sns.heatmap(confusion_matrix_rf_chart, annot = True, fmt = 'g').set(title = \"Confusion Matrix - Random Forest\")\n",
    "    \n",
    "    \n",
    "    fig, ax = plt.subplots(figsize=(15,5))\n",
    "    \n",
    "    #ROC curve plot\n",
    "    y_pred_proba_rf = random_forest.predict_proba(X_test)[::,1]\n",
    "    fpr, tpr, thresholds = roc_curve(y_test, y_pred_proba_rf)\n",
    "    roc_score_rf = roc_auc_score(y_test, y_pred_proba_rf)\n",
    "    roc_score_rf = round(roc_score_rf, 3)\n",
    "    ax.plot(fpr, tpr, label=\"Random Forest - AUC: {}\".format(roc_score_rf), color=\"green\", linewidth = 2)\n",
    "    ax.set_xlabel(\"False Positive Rate\")\n",
    "    ax.set_ylabel(\"True Positive Rate\")\n",
    "    ax.set_title(\"ROC_AUC\", fontsize=20)\n",
    "    ax.legend(loc=\"lower right\")\n",
    "    ax.legend(loc=4)\n",
    "    ax.plot([0, 1], [0, 1], color = \"navy\", linestyle = \"--\")\n",
    "    plt.show()\n",
    "    \n",
    "confusion_matrix_roc_auc_rf()"
   ]
  },
  {
   "cell_type": "markdown",
   "metadata": {},
   "source": [
    "#### 6.2.2. Cross-validation wrapper. Hyperparameters. Feature importance"
   ]
  },
  {
   "cell_type": "code",
   "execution_count": 53,
   "metadata": {},
   "outputs": [],
   "source": [
    "features = list(X_variables.columns)\n",
    "target = \"Survived\""
   ]
  },
  {
   "cell_type": "code",
   "execution_count": 54,
   "metadata": {},
   "outputs": [
    {
     "name": "stdout",
     "output_type": "stream",
     "text": [
      "Train AUC: 0.9934958739058968 Valid AUC: 0.7773386034255599\n",
      "Train AUC: 0.9950311332503113 Valid AUC: 0.691340594325669\n",
      "Train AUC: 0.9935240815522505 Valid AUC: 0.7577586206896552\n",
      "Train AUC: 0.9943835616438357 Valid AUC: 0.7241495226569854\n",
      "Train AUC: 0.9948886176380837 Valid AUC: 0.7355224640448007\n",
      "0.7372219610285341\n"
     ]
    }
   ],
   "source": [
    "# Wrapper\n",
    "def CVTestRFClass(nFolds = 5, randomState=0, print_results = False, show_features=False, features=features, *args, **kwargs):\n",
    "    kf = KFold(n_splits=nFolds, shuffle=True, random_state=randomState)\n",
    "\n",
    "    # Lists for results:\n",
    "    testResults_rf = []\n",
    "    trainResults_rf = []\n",
    "    predictions_rf = []\n",
    "    indices_rf = []\n",
    "    feature_importance = 0\n",
    "\n",
    "    for train, test in kf.split(titanic_new.index.values):\n",
    "        random_forest_estimator = RandomForestClassifier(*args, **kwargs, random_state=randomState, n_jobs=-1)\n",
    "        random_forest_estimator.fit(titanic_new.iloc[train][features], titanic_new.iloc[train][target])\n",
    "\n",
    "        predsTrain_rf = random_forest_estimator.predict_proba(titanic_new.iloc[train][features])[:,1]\n",
    "        preds_rf = random_forest_estimator.predict_proba(titanic_new.iloc[test][features])[:,1]\n",
    "        \n",
    "        predictions_rf.append(preds_rf.tolist().copy())\n",
    "        \n",
    "        indices_rf.append(titanic_new.iloc[test].index.tolist().copy())\n",
    "        \n",
    "        trainScore_rf = roc_auc_score(titanic_new[target].iloc[train], predsTrain_rf)\n",
    "        testScore_rf = roc_auc_score(titanic_new[target].iloc[test], preds_rf)\n",
    "        \n",
    "        trainResults_rf.append(trainScore_rf)\n",
    "        testResults_rf.append(testScore_rf)\n",
    "        \n",
    "        # Results\n",
    "        if print_results == True:\n",
    "            print(\"Train AUC:\", trainScore_rf,\n",
    "                  \"Valid AUC:\", testScore_rf)\n",
    "        \n",
    "        # Feature importance\n",
    "        if show_features == True:\n",
    "            if len(testResults_rf) == 1:\n",
    "                feature_importance = pd.DataFrame({\"Features\": features, \n",
    "                                                  \"Importance_model_0\": np.round(random_forest_estimator.feature_importances_, 2)})\n",
    "            else:\n",
    "                feature_importance_temp = pd.DataFrame({\"Features\": features, \n",
    "                                                  \"Importance_model_{}\".format(len(testResults_rf)): np.round(random_forest_estimator.feature_importances_, 2)})\n",
    "                feature_importance = pd.concat([feature_importance, feature_importance_temp.iloc[:,1]], axis = 1)\n",
    "            \n",
    "            \n",
    "    return trainResults_rf, testResults_rf, predictions_rf, indices_rf, feature_importance\n",
    "\n",
    "trainResults, testResults, predictions, indices, feature_importance = CVTestRFClass(print_results = True)\n",
    "print(np.mean(testResults))"
   ]
  },
  {
   "cell_type": "markdown",
   "metadata": {},
   "source": [
    "On a traning dataset I've reach almost 100% fit, so they are overfitted. Let's dive into features and adjust some values for them."
   ]
  },
  {
   "cell_type": "code",
   "execution_count": 55,
   "metadata": {},
   "outputs": [
    {
     "name": "stdout",
     "output_type": "stream",
     "text": [
      "     Features  Importance_model_0  Importance_model_2  Importance_model_3  \\\n",
      "0        Fare              0.4600              0.4600              0.4600   \n",
      "1         Age              0.3800              0.3600              0.3700   \n",
      "2       SibSp              0.0800              0.0900              0.0800   \n",
      "3       Parch              0.0500              0.0500              0.0500   \n",
      "4  Embarked_S              0.0300              0.0300              0.0300   \n",
      "\n",
      "   Importance_model_4  Importance_model_5  \n",
      "0              0.4600              0.4600  \n",
      "1              0.3700              0.3600  \n",
      "2              0.0800              0.0900  \n",
      "3              0.0500              0.0500  \n",
      "4              0.0300              0.0400  \n"
     ]
    }
   ],
   "source": [
    "# Feature importance for models\n",
    "trainResults, testResults, predictions, indices, feature_importance = CVTestRFClass(show_features = True)\n",
    "print(feature_importance.sort_values(by = [\"Importance_model_0\"], ascending = False))"
   ]
  },
  {
   "cell_type": "markdown",
   "metadata": {},
   "source": [
    "Results are definitely similar, so the most important variables are Fare and Age. Let's look for parameters to assess their limit for hyperparameters tuning."
   ]
  },
  {
   "cell_type": "code",
   "execution_count": 56,
   "metadata": {},
   "outputs": [
    {
     "name": "stdout",
     "output_type": "stream",
     "text": [
      "N_estimators are equal to 10 0.9871640070679026 0.7103323218755923\n",
      "N_estimators are equal to 25 0.9920998209524736 0.7323397041272623\n",
      "N_estimators are equal to 50 0.993487065633753 0.7356103959477069\n",
      "N_estimators are equal to 100 0.9942646535980755 0.7372219610285341\n",
      "N_estimators are equal to 200 0.9944438139075471 0.7404407653742234\n",
      "N_estimators are equal to 500 0.994555727238108 0.740227213170588\n",
      "N_estimators are equal to 1000 0.9946371277204167 0.7421623555018664\n"
     ]
    }
   ],
   "source": [
    "# N_estimators\n",
    "\n",
    "for k in [10, 25, 50, 100, 200, 500, 1000]:\n",
    "    trainResults, testResults, predictions, indices, feature_importance = CVTestRFClass(\n",
    "                                                                            \n",
    "                                                                            n_estimators=k)\n",
    "    print(f'N_estimators are equal to {k}', np.mean(trainResults), np.mean(testResults))"
   ]
  },
  {
   "cell_type": "code",
   "execution_count": 57,
   "metadata": {},
   "outputs": [
    {
     "name": "stdout",
     "output_type": "stream",
     "text": [
      "Max_depth is equal to 2 0.7667033415175898 0.7368291219607086\n",
      "Max_depth is equal to 4 0.8182992596196422 0.7514430856951018\n",
      "Max_depth is equal to 6 0.8691573049278265 0.7603563329889069\n",
      "Max_depth is equal to 8 0.924237177824742 0.7607593209860507\n",
      "Max_depth is equal to 10 0.9676360331317229 0.7552220369713295\n",
      "Max_depth is equal to 12 0.9869719307371089 0.7519820858638123\n"
     ]
    }
   ],
   "source": [
    "# Max_depth\n",
    "\n",
    "for k in range(2,14,2):\n",
    "    trainResults, testResults, predictions, indices, feature_importance = CVTestRFClass(n_estimators= 100, \n",
    "                                                                                        max_depth=k)\n",
    "    \n",
    "    print(f'Max_depth is equal to {k}', np.mean(trainResults), np.mean(testResults))"
   ]
  },
  {
   "cell_type": "markdown",
   "metadata": {},
   "source": [
    "The highest value for testResults is for max_depth = 6. Let's use this knowledge in the final RandomForest model."
   ]
  },
  {
   "cell_type": "code",
   "execution_count": 58,
   "metadata": {},
   "outputs": [
    {
     "name": "stdout",
     "output_type": "stream",
     "text": [
      "2 0.7603563329889069\n",
      "4 0.7600686368214655\n",
      "6 0.7596981823738832\n",
      "8 0.7587574819181515\n",
      "10 0.7584256381062158\n",
      "15 0.7557880040199751\n",
      "20 0.7576281317577267\n"
     ]
    }
   ],
   "source": [
    "# min_samples_split\n",
    "for k in [2, 4, 6, 8, 10, 15, 20]:\n",
    "    trainResults, testResults, predictions, indices, feature_importance = CVTestRFClass(print_results = False, \n",
    "                                                                                        n_estimators=100, \n",
    "                                                                                        max_depth=6,\n",
    "                                                                                        min_samples_split=k)\n",
    "    print(k, np.mean(testResults))"
   ]
  },
  {
   "cell_type": "markdown",
   "metadata": {},
   "source": [
    "Minimal samples split should be also equal to six. Let's calculate minimal sample leaf.\n"
   ]
  },
  {
   "cell_type": "code",
   "execution_count": 59,
   "metadata": {},
   "outputs": [
    {
     "name": "stdout",
     "output_type": "stream",
     "text": [
      "1 0.7596981823738832\n",
      "2 0.7572036113422884\n",
      "3 0.7575598046630665\n",
      "4 0.7547034740186306\n",
      "5 0.7515106383783767\n",
      "6 0.75417866324027\n"
     ]
    }
   ],
   "source": [
    "for k in range(1,7):\n",
    "    trainResults, testResults, predictions, indices, feature_importance = CVTestRFClass(print_results = False, \n",
    "                                                                                        n_estimators=100, \n",
    "                                                                                        max_depth=6,\n",
    "                                                                                        min_samples_split=6,\n",
    "                                                                                        min_samples_leaf=k)\n",
    "    print(k, np.mean(testResults))"
   ]
  },
  {
   "cell_type": "markdown",
   "metadata": {},
   "source": [
    "Minimal samples leaf should be equal to 2. Let's save our model, with the obtained results.\n"
   ]
  },
  {
   "cell_type": "code",
   "execution_count": 60,
   "metadata": {},
   "outputs": [
    {
     "name": "stdout",
     "output_type": "stream",
     "text": [
      "6 0.7572036113422884\n"
     ]
    }
   ],
   "source": [
    "trainResults, testResults, predictions, indices, feature_importance = CVTestRFClass(print_results = False,\n",
    "                                                                                    n_estimators=100, \n",
    "                                                                                    max_depth=6,\n",
    "                                                                                    min_samples_split=6, \n",
    "                                                                                    min_samples_leaf=2)\n",
    "print(k, np.mean(testResults))"
   ]
  },
  {
   "cell_type": "markdown",
   "metadata": {},
   "source": [
    "#### 6.2.3. Tuning of hyperparameters"
   ]
  },
  {
   "cell_type": "code",
   "execution_count": 61,
   "metadata": {},
   "outputs": [
    {
     "data": {
      "text/plain": [
       "RandomizedSearchCV(cv=5, estimator=RandomForestClassifier(),\n",
       "                   param_distributions={'max_depth': [2, 4, 6, 8],\n",
       "                                        'min_samples_leaf': [1, 2, 3],\n",
       "                                        'min_samples_split': [4, 5, 6, 7],\n",
       "                                        'n_estimators': [50, 56, 63, 70, 76, 83,\n",
       "                                                         90, 96, 103, 110]},\n",
       "                   random_state=0)"
      ]
     },
     "execution_count": 61,
     "metadata": {},
     "output_type": "execute_result"
    }
   ],
   "source": [
    "# Creating param grid\n",
    "\n",
    "param_grid_random_forest = {\"n_estimators\": [int(x) for x in np.linspace(50, 110, 10)],\n",
    "                            \"max_depth\": [int(x) for x in range(2,10,2)],\n",
    "                            \"min_samples_split\": [int(x) for x in range(4,8)],\n",
    "                            \"min_samples_leaf\":[int(x) for x in range(1,4)]}\n",
    "\n",
    "grid_search_random_forest = RandomizedSearchCV(estimator=random_forest,\n",
    "                           param_distributions=param_grid_random_forest,\n",
    "                           cv=5,\n",
    "                           random_state = 0)\n",
    "\n",
    "grid_search_random_forest.fit(X_train, y_train)"
   ]
  },
  {
   "cell_type": "code",
   "execution_count": 62,
   "metadata": {},
   "outputs": [
    {
     "data": {
      "text/plain": [
       "{'n_estimators': 70,\n",
       " 'min_samples_split': 6,\n",
       " 'min_samples_leaf': 1,\n",
       " 'max_depth': 6}"
      ]
     },
     "execution_count": 62,
     "metadata": {},
     "output_type": "execute_result"
    }
   ],
   "source": [
    "grid_search_random_forest.best_params_"
   ]
  },
  {
   "cell_type": "code",
   "execution_count": 63,
   "metadata": {},
   "outputs": [
    {
     "data": {
      "text/plain": [
       "0.7506587615283267"
      ]
     },
     "execution_count": 63,
     "metadata": {},
     "output_type": "execute_result"
    }
   ],
   "source": [
    "# Final result\n",
    "y_pred_proba_rf_final = grid_search_random_forest.predict_proba(X_test)[::,1]\n",
    "roc_score_rf_final = roc_auc_score(y_test, y_pred_proba_rf_final)\n",
    "roc_score_rf_final"
   ]
  },
  {
   "cell_type": "code",
   "execution_count": 255,
   "metadata": {},
   "outputs": [],
   "source": [
    "import pickle\n",
    "\n",
    "model_random_forest_final = {\"Model\": \"RF\",\n",
    "                      \"ROC_AUC_score\": roc_score_rf_final}\n",
    "\n",
    "with open(\"model_random_forest_final.p\", \"wb\") as save:\n",
    "    pickle.dump(model_random_forest_final, save)"
   ]
  },
  {
   "cell_type": "markdown",
   "metadata": {},
   "source": [
    "### 6.3. ADABoost"
   ]
  },
  {
   "cell_type": "code",
   "execution_count": 65,
   "metadata": {},
   "outputs": [],
   "source": [
    "# Implementing random forest\n",
    "ada_boost = AdaBoostClassifier()\n",
    "ada_boost.fit(X_train, y_train)\n",
    "\n",
    "# Predictions\n",
    "train_prediction_ada = ada_boost.predict(X_train)\n",
    "test_prediction_ada = ada_boost.predict(X_test)\n"
   ]
  },
  {
   "cell_type": "code",
   "execution_count": 66,
   "metadata": {},
   "outputs": [
    {
     "data": {
      "image/png": "[encoded data removed]",
      "text/plain": [
       "<Figure size 720x504 with 2 Axes>"
      ]
     },
     "metadata": {
      "needs_background": "light"
     },
     "output_type": "display_data"
    },
    {
     "data": {
      "image/png": "[encoded data removed]",
      "text/plain": [
       "<Figure size 1080x360 with 1 Axes>"
      ]
     },
     "metadata": {
      "needs_background": "light"
     },
     "output_type": "display_data"
    }
   ],
   "source": [
    "pd.set_option('display.float_format', lambda x: '%.4f' % x)\n",
    "\n",
    "def confusion_matrix_roc_auc_ada():\n",
    "    \n",
    "    \n",
    "    # Confusion_matrix\n",
    "    plt.figure(figsize=(10, 7))\n",
    "    confusion_matrix_ada = confusion_matrix(y_test, test_prediction_ada)\n",
    "    confusion_matrix_ada_chart = pd.DataFrame(confusion_matrix_ada, \n",
    "                                   columns = [\"Actual Positive:1\", \"Actual Negative:0\"],\n",
    "                                  index = [\"Predict Positive: 1\", \"Predict Negative: 0\"])\n",
    "    \n",
    "    sns.heatmap(confusion_matrix_ada_chart, annot = True, fmt = 'g').set(title = \"Confusion Matrix - AdaBoost\")\n",
    "    \n",
    "    \n",
    "    fig, ax = plt.subplots(figsize=(15,5))\n",
    "    \n",
    "    #ROC curve plot\n",
    "    y_pred_proba_ada = ada_boost.predict_proba(X_test)[::,1]\n",
    "    fpr, tpr, thresholds = roc_curve(y_test, y_pred_proba_ada)\n",
    "    roc_score_ada = roc_auc_score(y_test, y_pred_proba_ada)\n",
    "    roc_score_ada = round(roc_score_ada, 3)\n",
    "    ax.plot(fpr, tpr, label=\"AdaBoost - AUC: {}\".format(roc_score_ada), color=\"purple\", linewidth = 2)\n",
    "    ax.set_xlabel(\"False Positive Rate\")\n",
    "    ax.set_ylabel(\"True Positive Rate\")\n",
    "    ax.set_title(\"ROC_AUC\", fontsize=20)\n",
    "    ax.legend(loc=\"lower right\")\n",
    "    ax.legend(loc=4)\n",
    "    ax.plot([0, 1], [0, 1], color = \"navy\", linestyle = \"--\")\n",
    "    plt.show()\n",
    "    \n",
    "confusion_matrix_roc_auc_ada()"
   ]
  },
  {
   "cell_type": "markdown",
   "metadata": {},
   "source": [
    "#### 6.3.2. Cross-validation wrapper. Hyperparameters. Feature importance"
   ]
  },
  {
   "cell_type": "code",
   "execution_count": 67,
   "metadata": {},
   "outputs": [
    {
     "name": "stdout",
     "output_type": "stream",
     "text": [
      "Train AUC: 0.8167132030315117 Valid AUC: 0.7787610619469028\n",
      "Train AUC: 0.833765816528272 Valid AUC: 0.670379711363318\n",
      "Train AUC: 0.8134532134532134 Valid AUC: 0.737335460710012\n",
      "Train AUC: 0.812446134347275 Valid AUC: 0.7913949622810382\n",
      "Train AUC: 0.8168700705687008 Valid AUC: 0.718233158531666\n",
      "0.7392208709665874\n"
     ]
    }
   ],
   "source": [
    "def CVTestAdaClass(nFolds = 5, randomState=99, print_results = False, show_features=False, features=features, *args, **kwargs):\n",
    "    kf = KFold(n_splits=nFolds, shuffle=True, random_state=randomState)\n",
    "\n",
    "    # List for results:\n",
    "    testResults_ada = []\n",
    "    trainResults_ada = []\n",
    "    predictions_ada = []\n",
    "    indices_ada = []\n",
    "    feature_importance = 0\n",
    "\n",
    "    \n",
    "    for train, test in kf.split(titanic_new.index.values):\n",
    "        ada_boost_estimator = AdaBoostClassifier(*args, **kwargs, random_state=randomState)\n",
    "        ada_boost_estimator.fit(titanic_new.iloc[train][features], titanic_new.iloc[train][target])\n",
    "\n",
    "        predsTrain_ada = ada_boost_estimator.predict_proba(titanic_new.iloc[train][features])[:,1]\n",
    "        preds_ada = ada_boost_estimator.predict_proba(titanic_new.iloc[test][features])[:,1]\n",
    "        \n",
    "        predictions_ada.append(preds_ada.tolist().copy())\n",
    "\n",
    "        indices_ada.append(titanic_new.iloc[test].index.tolist().copy())\n",
    "\n",
    "        trainScore_ada = roc_auc_score(titanic_new[target].iloc[train], predsTrain_ada)\n",
    "        testScore_ada = roc_auc_score(titanic_new[target].iloc[test], preds_ada)\n",
    "        \n",
    "        trainResults_ada.append(trainScore_ada)\n",
    "        testResults_ada.append(testScore_ada)\n",
    "        \n",
    "        # Print results\n",
    "        if print_results == True:\n",
    "            print(\"Train AUC:\", trainScore_ada,\n",
    "                  \"Valid AUC:\", testScore_ada)\n",
    "            \n",
    "        # Print feature importance   \n",
    "        if show_features == True:\n",
    "            if len(testResults_ada) == 1:\n",
    "                feature_importance = pd.DataFrame({\"Features\": features, \n",
    "                                                  \"Importance_model_0\": np.round(ada_boost_estimator.feature_importances_, 2)})\n",
    "            else:\n",
    "                feature_importance_temp = pd.DataFrame({\"Features\": features, \n",
    "                                                  \"Importance_model_{}\".format(len(testResults_ada)): np.round(ada_boost_estimator.feature_importances_, 2)})\n",
    "                feature_importance = pd.concat([feature_importance, feature_importance_temp.iloc[:,1]], axis = 1)\n",
    "            \n",
    "            \n",
    "    return trainResults_ada, testResults_ada, predictions_ada, indices_ada, feature_importance\n",
    "\n",
    "trainResults, testResults, predictions, indices, feature_importance = CVTestAdaClass(print_results = True)\n",
    "print(np.mean(testResults))"
   ]
  },
  {
   "cell_type": "code",
   "execution_count": 68,
   "metadata": {},
   "outputs": [
    {
     "name": "stdout",
     "output_type": "stream",
     "text": [
      "N_estimators are equal to 10 0.773015785636537 0.7233057156044007\n",
      "N_estimators are equal to 25 0.8005999039883716 0.7322392742503514\n",
      "N_estimators are equal to 50 0.8186496875857946 0.7392208709665874\n",
      "N_estimators are equal to 100 0.8338834153207866 0.7500351819603539\n",
      "N_estimators are equal to 200 0.8503572561136481 0.7500664735460634\n",
      "N_estimators are equal to 500 0.8734699383657507 0.7494809170788502\n",
      "N_estimators are equal to 1000 0.8910005174061416 0.7428302796774888\n"
     ]
    }
   ],
   "source": [
    "# N_estimators\n",
    "\n",
    "for k in [10, 25, 50, 100, 200, 500, 1000]:\n",
    "    trainResults, testResults, predictions, indices, feature_importance = CVTestAdaClass(n_estimators=k)\n",
    "    print(f'N_estimators are equal to {k}', np.mean(trainResults), np.mean(testResults))"
   ]
  },
  {
   "cell_type": "code",
   "execution_count": 69,
   "metadata": {},
   "outputs": [
    {
     "name": "stdout",
     "output_type": "stream",
     "text": [
      "N_estimators are equal to 0.1 0.7869300411795862 0.7471959400348153\n",
      "N_estimators are equal to 0.2 0.7966464670035848 0.7491969039120482\n",
      "N_estimators are equal to 0.3 0.8035506584144656 0.7464319225867779\n",
      "N_estimators are equal to 0.5 0.814771523998062 0.7474342849880994\n",
      "N_estimators are equal to 0.7 0.8226540971932705 0.7490172748030528\n",
      "N_estimators are equal to 0.9 0.8298987088004324 0.7511248285933909\n"
     ]
    }
   ],
   "source": [
    "# Learning_Rate\n",
    "\n",
    "for k in [0.1, 0.2, 0.3, 0.5, 0.7, 0.9]:\n",
    "    trainResults, testResults, predictions, indices, feature_importance = CVTestAdaClass(n_estimators=100,\n",
    "                                                                                         learning_rate = k)\n",
    "    print(f'N_estimators are equal to {k}', np.mean(trainResults), np.mean(testResults))"
   ]
  },
  {
   "cell_type": "code",
   "execution_count": 70,
   "metadata": {},
   "outputs": [
    {
     "name": "stdout",
     "output_type": "stream",
     "text": [
      "N_estimators are equal to SAMME 0.7525046118324448 0.7205696500306591\n",
      "N_estimators are equal to SAMME.R 0.7966464670035848 0.7491969039120482\n"
     ]
    }
   ],
   "source": [
    "# Algorithm\n",
    "\n",
    "for k in ['SAMME', 'SAMME.R']:\n",
    "    trainResults, testResults, predictions, indices, feature_importance = CVTestAdaClass(n_estimators=100,\n",
    "                                                                                         learning_rate = 0.2,\n",
    "                                                                                         algorithm = k)\n",
    "    print(f'N_estimators are equal to {k}', np.mean(trainResults), np.mean(testResults))"
   ]
  },
  {
   "cell_type": "code",
   "execution_count": 71,
   "metadata": {},
   "outputs": [
    {
     "data": {
      "text/plain": [
       "RandomizedSearchCV(cv=5, estimator=AdaBoostClassifier(),\n",
       "                   param_distributions={'learning_rate': [0.15, 0.16, 0.17,\n",
       "                                                          0.18, 0.19, 0.2],\n",
       "                                        'n_estimators': [50, 56, 63, 70, 76, 83,\n",
       "                                                         90, 96, 103, 110]},\n",
       "                   random_state=0)"
      ]
     },
     "execution_count": 71,
     "metadata": {},
     "output_type": "execute_result"
    }
   ],
   "source": [
    "# Creating param grid\n",
    "\n",
    "param_grid_ada = {\"n_estimators\": [int(x) for x in np.linspace(50, 110, 10)],\n",
    "                            \"learning_rate\": [0.15, 0.16, 0.17, 0.18, 0.19, 0.20]}\n",
    "\n",
    "grid_search_ada = RandomizedSearchCV(estimator=ada_boost,\n",
    "                           param_distributions=param_grid_ada,\n",
    "                           cv=5,\n",
    "                           random_state = 0)\n",
    "\n",
    "grid_search_ada.fit(X_train, y_train)"
   ]
  },
  {
   "cell_type": "code",
   "execution_count": 72,
   "metadata": {},
   "outputs": [
    {
     "data": {
      "text/plain": [
       "{'n_estimators': 90, 'learning_rate': 0.17}"
      ]
     },
     "execution_count": 72,
     "metadata": {},
     "output_type": "execute_result"
    }
   ],
   "source": [
    "grid_search_ada.best_params_"
   ]
  },
  {
   "cell_type": "code",
   "execution_count": 73,
   "metadata": {},
   "outputs": [
    {
     "data": {
      "text/plain": [
       "0.7612648221343874"
      ]
     },
     "execution_count": 73,
     "metadata": {},
     "output_type": "execute_result"
    }
   ],
   "source": [
    "# Final result\n",
    "y_pred_proba_ada_final = grid_search_ada.predict_proba(X_test)[::,1]\n",
    "roc_score_ada_final = roc_auc_score(y_test, y_pred_proba_ada_final)\n",
    "roc_score_ada_final"
   ]
  },
  {
   "cell_type": "code",
   "execution_count": 254,
   "metadata": {},
   "outputs": [],
   "source": [
    "model_ada_boost_final = {\"Model\": \"AdaBoost\",\n",
    "                      \"ROC_AUC_score\": roc_score_ada_final}\n",
    "\n",
    "with open(\"model_ada_boost_final.p\", \"wb\") as save:\n",
    "    pickle.dump(model_ada_boost_final, save)"
   ]
  },
  {
   "cell_type": "markdown",
   "metadata": {},
   "source": [
    "### 6.4. XGBoost"
   ]
  },
  {
   "cell_type": "code",
   "execution_count": 75,
   "metadata": {},
   "outputs": [],
   "source": [
    "xgboost_titanic = xgb.XGBClassifier(eval_metric = 'logloss', random_state = 0)\n",
    "xgboost_titanic.fit(X_train, y_train)\n",
    "train_prediction_xgb = xgboost_titanic.predict(X_train)\n",
    "test_prediction_xgb = xgboost_titanic.predict(X_test)"
   ]
  },
  {
   "cell_type": "code",
   "execution_count": 76,
   "metadata": {},
   "outputs": [
    {
     "data": {
      "image/png": "[encoded data removed]",
      "text/plain": [
       "<Figure size 720x504 with 2 Axes>"
      ]
     },
     "metadata": {
      "needs_background": "light"
     },
     "output_type": "display_data"
    },
    {
     "data": {
      "image/png": "[encoded data removed]",
      "text/plain": [
       "<Figure size 1080x360 with 1 Axes>"
      ]
     },
     "metadata": {
      "needs_background": "light"
     },
     "output_type": "display_data"
    }
   ],
   "source": [
    "pd.set_option('display.float_format', lambda x: '%.4f' % x)\n",
    "\n",
    "def confusion_matrix_roc_auc_xgb():\n",
    "    \n",
    "    fig, ax1 = plt.subplots(figsize=(10,7))\n",
    "    \n",
    "    # Confusion_matrix\n",
    "    plot_confusion_matrix(xgboost_titanic,\n",
    "                          X_test,\n",
    "                          y_test,\n",
    "                          display_labels = [\"Survived\", \"Dead\"],\n",
    "                          ax = ax1)\n",
    "    \n",
    "    fig, ax2 = plt.subplots(figsize=(15,5))\n",
    "    \n",
    "    #ROC curve plot\n",
    "    y_pred_proba_xgb = xgboost_titanic.predict_proba(X_test)[:,1]\n",
    "    fpr, tpr, thresholds = roc_curve(y_test, y_pred_proba_xgb)\n",
    "    roc_score_xgb = roc_auc_score(y_test, y_pred_proba_xgb)\n",
    "    roc_score_xgb = round(roc_score_xgb, 3)\n",
    "    ax2.plot(fpr, tpr, label=\"XGBoost - AUC: {}\".format(roc_score_xgb), color=\"grey\", linewidth = 2)\n",
    "    ax2.set_xlabel(\"False Positive Rate\")\n",
    "    ax2.set_ylabel(\"True Positive Rate\")\n",
    "    ax2.set_title(\"ROC_AUC\", fontsize=20)\n",
    "    ax2.legend(loc=\"lower right\")\n",
    "    ax2.legend(loc=4)\n",
    "    ax2.plot([0, 1], [0, 1], color = \"navy\", linestyle = \"--\")\n",
    "    plt.show()\n",
    "    \n",
    "confusion_matrix_roc_auc_xgb()"
   ]
  },
  {
   "cell_type": "markdown",
   "metadata": {},
   "source": [
    "#### 6.4.2. Cross-validation wrapper. Hyperparameters. Feature importance"
   ]
  },
  {
   "cell_type": "code",
   "execution_count": 77,
   "metadata": {},
   "outputs": [
    {
     "name": "stdout",
     "output_type": "stream",
     "text": [
      "Train AUC: 0.9799953273757374 Valid AUC: 0.7592885375494072\n",
      "Train AUC: 0.9877833125778333 Valid AUC: 0.7201828694366008\n",
      "Train AUC: 0.9851152368758002 Valid AUC: 0.730316091954023\n",
      "Train AUC: 0.9800456621004565 Valid AUC: 0.7496974586526826\n",
      "Train AUC: 0.9827416675143253 Valid AUC: 0.7115947562682958\n",
      "0.7342159427722018\n"
     ]
    }
   ],
   "source": [
    "# Wrapper\n",
    "def CVTestXGBClass(nFolds = 5, randomState=0, print_results = False, show_features=False, features=features, *args, **kwargs):\n",
    "    kf = KFold(n_splits=nFolds, shuffle=True, random_state=randomState)\n",
    "\n",
    "    # Lists for results:\n",
    "    testResults_xgb = []\n",
    "    trainResults_xgb = []\n",
    "    predictions_xgb = []\n",
    "    indices_xgb = []\n",
    "    feature_importance = 0\n",
    "\n",
    "    for train, test in kf.split(titanic_new.index.values):\n",
    "        xgb_estimator = xgb.XGBClassifier(eval_metric = 'logloss', *args, **kwargs, random_state=randomState, n_jobs=-1)\n",
    "        xgb_estimator.fit(titanic_new.iloc[train][features], titanic_new.iloc[train][target])\n",
    "\n",
    "        predsTrain_xgb = xgb_estimator.predict_proba(titanic_new.iloc[train][features])[:,1]\n",
    "        preds_xgb = xgb_estimator.predict_proba(titanic_new.iloc[test][features])[:,1]\n",
    "        \n",
    "        predictions_xgb.append(preds_xgb.tolist().copy())\n",
    "        \n",
    "        indices_xgb.append(titanic_new.iloc[test].index.tolist().copy())\n",
    "        \n",
    "        trainScore_xgb = roc_auc_score(titanic_new[target].iloc[train], predsTrain_xgb)\n",
    "        testScore_xgb = roc_auc_score(titanic_new[target].iloc[test], preds_xgb)\n",
    "        \n",
    "        trainResults_xgb.append(trainScore_xgb)\n",
    "        testResults_xgb.append(testScore_xgb)\n",
    "        \n",
    "        # Results\n",
    "        if print_results == True:\n",
    "            print(\"Train AUC:\", trainScore_xgb,\n",
    "                  \"Valid AUC:\", testScore_xgb)\n",
    "        \n",
    "        # Feature importance\n",
    "        if show_features == True:\n",
    "            if len(testResults_xgb) == 1:\n",
    "                feature_importance = pd.DataFrame({\"Features\": features, \n",
    "                                                  \"Importance_model_0\": np.round(xgb_estimator.feature_importances_, 2)})\n",
    "            else:\n",
    "                feature_importance_temp = pd.DataFrame({\"Features\": features, \n",
    "                                                  \"Importance_model_{}\".format(len(testResults_xgb)): np.round(xgb_estimator.feature_importances_, 2)})\n",
    "                feature_importance = pd.concat([feature_importance, feature_importance_temp.iloc[:,1]], axis = 1)\n",
    "            \n",
    "            \n",
    "    return trainResults_xgb, testResults_xgb, predictions_xgb, indices_xgb, feature_importance\n",
    "\n",
    "trainResults, testResults, predictions, indices, feature_importance = CVTestXGBClass(print_results = True)\n",
    "print(np.mean(testResults))"
   ]
  },
  {
   "cell_type": "markdown",
   "metadata": {},
   "source": [
    "There is definitely an overfitting issue. In this scenario, the best case is to increase training dataset or thinking about **early stopping**. Nevertheless, as I did previously, I will dive into my hyperparameters and select some limit value, until which I will conduct Grid Search."
   ]
  },
  {
   "cell_type": "code",
   "execution_count": 141,
   "metadata": {},
   "outputs": [
    {
     "name": "stdout",
     "output_type": "stream",
     "text": [
      "Max_depth is equal to 3 0.9274995695505535 0.7383475923526747\n",
      "Max_depth is equal to 4 0.9586283009420956 0.7348700477541212\n",
      "Max_depth is equal to 5 0.9745343787552949 0.7396263661918582\n",
      "Max_depth is equal to 6 0.9831362412888305 0.7342159427722018\n",
      "Max_depth is equal to 7 0.9894696357776027 0.7357076497151636\n",
      "Max_depth is equal to 8 0.9917939424105573 0.7332537469263882\n",
      "Max_depth is equal to 9 0.9927402485771196 0.7362124225268671\n",
      "Max_depth is equal to 10 0.9935798042894278 0.7325728921667956\n",
      "Max_depth is equal to 11 0.9941129627073039 0.7329551564234443\n"
     ]
    }
   ],
   "source": [
    "# Max_depth\n",
    "for depth in range(3,12):\n",
    "    trainResults, testResults, predictions, indices, hists = CVTestXGBClass(max_depth=depth)\n",
    "    print(f'Max_depth is equal to {depth}', np.mean(trainResults), np.mean(testResults))"
   ]
  },
  {
   "cell_type": "markdown",
   "metadata": {},
   "source": [
    "Max_depth = 5 seems to be good, because predicted values are not overfitted and train result is the highest."
   ]
  },
  {
   "cell_type": "code",
   "execution_count": 246,
   "metadata": {},
   "outputs": [
    {
     "name": "stdout",
     "output_type": "stream",
     "text": [
      "Subsample is equal to 0.01 0.6805745062836993 0.6689661658573135\n",
      "Subsample is equal to 0.05 0.7640120265841147 0.6762156994526243\n",
      "Subsample is equal to 0.1 0.8350966536803794 0.7154795387182393\n",
      "Subsample is equal to 0.2 0.9082008771330015 0.7023601397558805\n",
      "Subsample is equal to 0.3 0.9460930640825893 0.7104499131948847\n",
      "Subsample is equal to 0.4 0.9695596013657133 0.7267434472768166\n",
      "Subsample is equal to 0.5 0.9804289429620289 0.7231007889437052\n",
      "Subsample is equal to 0.8 0.991383360245892 0.7311941939575568\n",
      "Subsample is equal to 1 0.9894696357776027 0.7357076497151636\n"
     ]
    }
   ],
   "source": [
    "# Subsample\n",
    "for subsample in [0.01, 0.05, 0.1, 0.2, 0.3, 0.4, 0.5, 0.8, 1]:\n",
    "    trainResults, testResults, predictions, indices, hists = CVTestXGBClass(max_depth=7,\n",
    "                                                                            subsample = subsample)\n",
    "    print(f'Subsample is equal to {subsample}', np.mean(trainResults), np.mean(testResults))"
   ]
  },
  {
   "cell_type": "markdown",
   "metadata": {},
   "source": [
    "In my case subsample should be the highest as it could be, the nearer the 1 the better."
   ]
  },
  {
   "cell_type": "code",
   "execution_count": 247,
   "metadata": {},
   "outputs": [
    {
     "name": "stdout",
     "output_type": "stream",
     "text": [
      "Colsample_bytree is equal to 0.1 0.9873423615916501 0.7345307146426222\n",
      "Colsample_bytree is equal to 0.2 0.978901022224948 0.7407285457568514\n",
      "Colsample_bytree is equal to 0.5 0.9599981577652128 0.7519401889922788\n",
      "Colsample_bytree is equal to 0.8 0.9393773922022397 0.7519095661660001\n",
      "Colsample_bytree is equal to 1 0.9288369669751632 0.7537877556078889\n"
     ]
    }
   ],
   "source": [
    "# Gamma\n",
    "for colsample_bytree in [0.1, 0.2, 0.5, 0.8, 1]:\n",
    "    trainResults, testResults, predictions, indices, hists = CVTestXGBClass(max_depth=7,\n",
    "                                                                            learning_rate = 0.3,\n",
    "                                                                            gamma = colsample_bytree)\n",
    "    print(f'Colsample_bytree is equal to {colsample_bytree}', np.mean(trainResults), np.mean(testResults))"
   ]
  },
  {
   "cell_type": "markdown",
   "metadata": {},
   "source": [
    "Similar situation to previous point, colsample_bytree should be nearly 1."
   ]
  },
  {
   "cell_type": "code",
   "execution_count": 248,
   "metadata": {},
   "outputs": [
    {
     "name": "stdout",
     "output_type": "stream",
     "text": [
      "Lambda is equal to 0 0.5462376059054298 0.5581055658507228\n",
      "Lambda is equal to 3 0.9833464706249396 0.7145543187930653\n",
      "Lambda is equal to 5 0.9534220058874704 0.7050913938199859\n",
      "Lambda is equal to 10 0.9770562654645989 0.7270641101775703\n",
      "Lambda is equal to 20 0.9615528366452226 0.7270605419529649\n",
      "Lambda is equal to 50 0.9322073014056844 0.7305131255508389\n",
      "Lambda is equal to 100 0.9087982531338339 0.7401653630245836\n"
     ]
    }
   ],
   "source": [
    "# lambda\n",
    "for lambdaX in [0,3,5,10,20,50,100]:\n",
    "    trainResults, testResults, predictions, indices, hists = CVTestXGBClass(max_depth=3,\n",
    "                                                                            learning_rate = 02.,\n",
    "                                                                            reg_lambda = lambdaX)\n",
    "    print(f'Lambda is equal to {lambdaX}', np.mean(trainResults), np.mean(testResults))"
   ]
  },
  {
   "cell_type": "markdown",
   "metadata": {},
   "source": [
    "In my case, the value of reg_lambda should be around 10-20."
   ]
  },
  {
   "cell_type": "code",
   "execution_count": 251,
   "metadata": {},
   "outputs": [
    {
     "name": "stdout",
     "output_type": "stream",
     "text": [
      "Fitting 5 folds for each of 10 candidates, totalling 50 fits\n"
     ]
    },
    {
     "data": {
      "text/plain": [
       "RandomizedSearchCV(cv=5,\n",
       "                   estimator=XGBClassifier(base_score=0.5, booster='gbtree',\n",
       "                                           colsample_bylevel=1,\n",
       "                                           colsample_bynode=1,\n",
       "                                           colsample_bytree=1,\n",
       "                                           enable_categorical=False,\n",
       "                                           eval_metric='logloss', gamma=0,\n",
       "                                           gpu_id=-1, importance_type=None,\n",
       "                                           interaction_constraints='',\n",
       "                                           learning_rate=0.300000012,\n",
       "                                           max_delta_step=0, max_depth=6,\n",
       "                                           min_child_weight=1, missing=nan,\n",
       "                                           monotone_cons...\n",
       "                                           n_estimators=100, n_jobs=4,\n",
       "                                           num_parallel_tree=1,\n",
       "                                           predictor='auto', random_state=0,\n",
       "                                           reg_alpha=0, reg_lambda=1,\n",
       "                                           scale_pos_weight=1, subsample=1,\n",
       "                                           tree_method='exact',\n",
       "                                           validate_parameters=1,\n",
       "                                           verbosity=None),\n",
       "                   param_distributions={'colsample_bytree': [0.9, 0.95, 1],\n",
       "                                        'lambda': [10, 15, 20, 25],\n",
       "                                        'max_depth': [5, 6, 7, 8],\n",
       "                                        'subsample': [0.9, 0.95, 1]},\n",
       "                   random_state=0, scoring='accuracy', verbose=1)"
      ]
     },
     "execution_count": 251,
     "metadata": {},
     "output_type": "execute_result"
    }
   ],
   "source": [
    "# Creating param grid\n",
    "\n",
    "param_grid_xgb = {\"max_depth\":[5,6,7,8],\n",
    "                  \"lambda\": [10,15,20,25],\n",
    "                  \"colsample_bytree\": [0.9, 0.95, 1],\n",
    "                  \"subsample\": [0.9, 0.95, 1]}\n",
    "\n",
    "grid_search_xgb = RandomizedSearchCV(estimator=xgboost_titanic,\n",
    "                           param_distributions=param_grid_xgb,\n",
    "                           scoring = \"accuracy\", \n",
    "                           verbose = 1,\n",
    "                           cv=5,\n",
    "                           random_state=0)\n",
    "\n",
    "grid_search_xgb.fit(X_train, y_train)"
   ]
  },
  {
   "cell_type": "code",
   "execution_count": 243,
   "metadata": {},
   "outputs": [
    {
     "data": {
      "text/plain": [
       "{'subsample': 1, 'max_depth': 5, 'lambda': 20, 'colsample_bytree': 0.9}"
      ]
     },
     "execution_count": 243,
     "metadata": {},
     "output_type": "execute_result"
    }
   ],
   "source": [
    "grid_search_xgb.best_params_"
   ]
  },
  {
   "cell_type": "code",
   "execution_count": 252,
   "metadata": {},
   "outputs": [
    {
     "data": {
      "text/plain": [
       "0.7701581027667984"
      ]
     },
     "execution_count": 252,
     "metadata": {},
     "output_type": "execute_result"
    }
   ],
   "source": [
    "# Final result\n",
    "y_pred_proba_xgb_final = grid_search_xgb.predict_proba(X_test)[::,1]\n",
    "roc_score_xgb_final = roc_auc_score(y_test, y_pred_proba_xgb_final)\n",
    "roc_score_xgb_final"
   ]
  },
  {
   "cell_type": "code",
   "execution_count": 253,
   "metadata": {},
   "outputs": [],
   "source": [
    "model_xgb_final = {\"Model\": \"XGBoost\",\n",
    "                    \"ROC_AUC_score\": roc_score_xgb_final}\n",
    "\n",
    "with open(\"model_xgb_final.p\", \"wb\") as save:\n",
    "    pickle.dump(model_xgb_final, save)"
   ]
  }
 ],
 "metadata": {
  "kernelspec": {
   "display_name": "Python 3",
   "language": "python",
   "name": "python3"
  },
  "language_info": {
   "codemirror_mode": {
    "name": "ipython",
    "version": 3
   },
   "file_extension": ".py",
   "mimetype": "text/x-python",
   "name": "python",
   "nbconvert_exporter": "python",
   "pygments_lexer": "ipython3",
   "version": "3.8.5"
  }
 },
 "nbformat": 4,
 "nbformat_minor": 4
}
